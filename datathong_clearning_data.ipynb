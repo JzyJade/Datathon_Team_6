{
 "cells": [
  {
   "cell_type": "code",
   "execution_count": 159,
   "metadata": {},
   "outputs": [],
   "source": [
    "import numpy as np\n",
    "import pandas as pd\n",
    "import warnings\n",
    "warnings.filterwarnings('ignore')\n",
    "from datetime import datetime\n",
    "import datetime as dt\n",
    "import matplotlib.pyplot as plt\n",
    "import matplotlib.dates as mdates\n",
    "from io import StringIO\n",
    "from pyplotz.pyplotz import PyplotZ\n",
    "\n",
    "#To show Chinese font\n",
    "plt.rcParams['font.sans-serif']=['Microsoft YaHei'] \n",
    "plt.rcParams['axes.unicode_minus']=False\n",
    "\n",
    "from matplotlib import font_manager"
   ]
  },
  {
   "cell_type": "code",
   "execution_count": 160,
   "metadata": {},
   "outputs": [],
   "source": [
    "from sklearn.preprocessing import Imputer\n",
    "from collections import defaultdict\n",
    "\n",
    "import numpy as np\n",
    "from sklearn.metrics import confusion_matrix, accuracy_score, precision_score, recall_score, f1_score\n",
    "from pprint import pprint\n",
    "from sklearn.model_selection import GridSearchCV\n",
    "from sklearn.model_selection import StratifiedKFold\n",
    "from sklearn import svm, ensemble, linear_model, neural_network, neighbors\n",
    "import matplotlib.pyplot as plt\n",
    "from sklearn.metrics import roc_curve\n",
    "from sklearn.preprocessing import StandardScaler, MinMaxScaler\n",
    "from sklearn.metrics import roc_auc_score\n",
    "from xgboost import XGBClassifier\n",
    "from time import time\n",
    "from functools import partial\n",
    "from hyperopt import fmin, tpe, hp, space_eval, rand, Trials, partial, STATUS_OK\n",
    "from sklearn.model_selection import cross_val_score\n",
    "#from query_variables import query_data\n",
    "\n",
    "np.random.seed(42)\n",
    "is_show_roc = True\n",
    "is_show_feature_importance = True\n",
    "#search_way = 'grid_search'\n",
    "#search_way = 'no_search'\n",
    "search_way = 'bayes_search'\n",
    "negative_k_folds =7\n"
   ]
  },
  {
   "cell_type": "code",
   "execution_count": 161,
   "metadata": {},
   "outputs": [],
   "source": [
    "df_1 = pd.read_csv('C:/Users/310293241/Desktop/datathon/data/data_1.csv',header=None)"
   ]
  },
  {
   "cell_type": "code",
   "execution_count": 164,
   "metadata": {},
   "outputs": [],
   "source": [
    "# rename columns name \n",
    "df_1.rename(columns={0: 'patientunitstayid',1:'unitdischargestatus',\n",
    "                    2:'gender',3:'age',4:'unitType',5:'apachescore',\n",
    "                    6:'hospitaladmitoffset',7:'hospitaldischargeoffset',\n",
    "                    8:'timeInHospital',9:'unabridgedhosplos',\n",
    "                    10:'unabridgedunitlos',11:'hospitalid',12:'region'}, inplace=True)"
   ]
  },
  {
   "cell_type": "code",
   "execution_count": 166,
   "metadata": {},
   "outputs": [],
   "source": [
    "df_2 = pd.read_csv('C:/Users/310293241/Desktop/datathon/data/df_v2006.csv',header=None)"
   ]
  },
  {
   "cell_type": "code",
   "execution_count": 169,
   "metadata": {},
   "outputs": [],
   "source": [
    "#df_2 = df_2.iloc[1:]"
   ]
  },
  {
   "cell_type": "code",
   "execution_count": 170,
   "metadata": {},
   "outputs": [],
   "source": [
    "# rename columns name \n",
    "df_2.rename(columns={0: 'patientunitstayid',1:'lab',\n",
    "                    2:'lab_values'}, inplace=True)"
   ]
  },
  {
   "cell_type": "code",
   "execution_count": 171,
   "metadata": {},
   "outputs": [],
   "source": [
    "# convert str to float\n",
    "df_2['lab_values'] = df_2['lab_values'].astype(float)"
   ]
  },
  {
   "cell_type": "code",
   "execution_count": 172,
   "metadata": {},
   "outputs": [],
   "source": [
    "#df_2['lab_values'], df_2['values']=df_2['lab_values'].str.split('g', 1).str"
   ]
  },
  {
   "cell_type": "code",
   "execution_count": 173,
   "metadata": {},
   "outputs": [],
   "source": [
    "# convert table from vertical to hrozinal \n",
    "df_2 = df_2.pivot_table(index=['patientunitstayid'], \n",
    "                                    columns='lab', \n",
    "                                    values='lab_values')"
   ]
  },
  {
   "cell_type": "code",
   "execution_count": 174,
   "metadata": {},
   "outputs": [],
   "source": [
    "df_2 = df_2.reset_index()"
   ]
  },
  {
   "cell_type": "code",
   "execution_count": 175,
   "metadata": {},
   "outputs": [],
   "source": [
    "# convert str to float\n",
    "df_2['patientunitstayid'] = df_2['patientunitstayid'].astype(int)"
   ]
  },
  {
   "cell_type": "code",
   "execution_count": 176,
   "metadata": {},
   "outputs": [],
   "source": [
    "# drop duplicates\n",
    "df_2 = df_2.drop_duplicates()"
   ]
  },
  {
   "cell_type": "code",
   "execution_count": 178,
   "metadata": {},
   "outputs": [],
   "source": [
    "# merge data \n",
    "new_df = pd.merge(df_1,df_2,on=['patientunitstayid'],how='left')"
   ]
  },
  {
   "cell_type": "code",
   "execution_count": 179,
   "metadata": {},
   "outputs": [
    {
     "data": {
      "text/plain": [
       "(112303, 26)"
      ]
     },
     "execution_count": 179,
     "metadata": {},
     "output_type": "execute_result"
    }
   ],
   "source": [
    "new_df.shape"
   ]
  },
  {
   "cell_type": "code",
   "execution_count": 180,
   "metadata": {},
   "outputs": [
    {
     "data": {
      "text/plain": [
       "array(['Alive', 'Expired', nan], dtype=object)"
      ]
     },
     "execution_count": 180,
     "metadata": {},
     "output_type": "execute_result"
    }
   ],
   "source": [
    "new_df.unitdischargestatus.unique()"
   ]
  },
  {
   "cell_type": "code",
   "execution_count": 181,
   "metadata": {},
   "outputs": [],
   "source": [
    "# drop null values\n",
    "new_df = new_df.dropna(subset=['unitdischargestatus'])"
   ]
  },
  {
   "cell_type": "code",
   "execution_count": 182,
   "metadata": {},
   "outputs": [],
   "source": [
    "#'Alive':0;'Expired':1\n",
    "new_df.loc[new_df.unitdischargestatus  == 'Alive', 'unitdischargestatus'] = 0\n",
    "new_df.loc[new_df.unitdischargestatus  == 'Expired', 'unitdischargestatus'] = 1"
   ]
  },
  {
   "cell_type": "code",
   "execution_count": 183,
   "metadata": {},
   "outputs": [],
   "source": [
    "#'Female':0;'Male':1\n",
    "new_df.loc[new_df.gender  == 'Female', 'gender'] = 0\n",
    "new_df.loc[new_df.gender  == 'Male', 'gender'] = 1"
   ]
  },
  {
   "cell_type": "code",
   "execution_count": 184,
   "metadata": {},
   "outputs": [
    {
     "data": {
      "text/html": [
       "<div>\n",
       "<style scoped>\n",
       "    .dataframe tbody tr th:only-of-type {\n",
       "        vertical-align: middle;\n",
       "    }\n",
       "\n",
       "    .dataframe tbody tr th {\n",
       "        vertical-align: top;\n",
       "    }\n",
       "\n",
       "    .dataframe thead th {\n",
       "        text-align: right;\n",
       "    }\n",
       "</style>\n",
       "<table border=\"1\" class=\"dataframe\">\n",
       "  <thead>\n",
       "    <tr style=\"text-align: right;\">\n",
       "      <th></th>\n",
       "      <th>patientunitstayid</th>\n",
       "      <th>unitdischargestatus</th>\n",
       "      <th>gender</th>\n",
       "      <th>age</th>\n",
       "      <th>unitType</th>\n",
       "      <th>apachescore</th>\n",
       "      <th>hospitaladmitoffset</th>\n",
       "      <th>hospitaldischargeoffset</th>\n",
       "      <th>timeInHospital</th>\n",
       "      <th>unabridgedhosplos</th>\n",
       "      <th>...</th>\n",
       "      <th>ALT (SGPT)</th>\n",
       "      <th>AST (SGOT)</th>\n",
       "      <th>CRP</th>\n",
       "      <th>LDH</th>\n",
       "      <th>WBC x 1000</th>\n",
       "      <th>albumin</th>\n",
       "      <th>creatinine</th>\n",
       "      <th>platelets x 1000</th>\n",
       "      <th>total cholesterol</th>\n",
       "      <th>triglycerides</th>\n",
       "    </tr>\n",
       "  </thead>\n",
       "  <tbody>\n",
       "    <tr>\n",
       "      <th>0</th>\n",
       "      <td>141470</td>\n",
       "      <td>0</td>\n",
       "      <td>0</td>\n",
       "      <td>58</td>\n",
       "      <td>Med-Surg ICU</td>\n",
       "      <td>48</td>\n",
       "      <td>-5</td>\n",
       "      <td>10679</td>\n",
       "      <td>10684</td>\n",
       "      <td>7.4194</td>\n",
       "      <td>...</td>\n",
       "      <td>NaN</td>\n",
       "      <td>NaN</td>\n",
       "      <td>NaN</td>\n",
       "      <td>NaN</td>\n",
       "      <td>21.8</td>\n",
       "      <td>NaN</td>\n",
       "      <td>1.96</td>\n",
       "      <td>184.0</td>\n",
       "      <td>NaN</td>\n",
       "      <td>NaN</td>\n",
       "    </tr>\n",
       "    <tr>\n",
       "      <th>1</th>\n",
       "      <td>141515</td>\n",
       "      <td>0</td>\n",
       "      <td>0</td>\n",
       "      <td>68</td>\n",
       "      <td>CCU-CTICU</td>\n",
       "      <td>124</td>\n",
       "      <td>-1092</td>\n",
       "      <td>9290</td>\n",
       "      <td>10382</td>\n",
       "      <td>7.2097</td>\n",
       "      <td>...</td>\n",
       "      <td>29.0</td>\n",
       "      <td>84.0</td>\n",
       "      <td>NaN</td>\n",
       "      <td>NaN</td>\n",
       "      <td>10.0</td>\n",
       "      <td>1.0</td>\n",
       "      <td>2.14</td>\n",
       "      <td>30.0</td>\n",
       "      <td>NaN</td>\n",
       "      <td>NaN</td>\n",
       "    </tr>\n",
       "    <tr>\n",
       "      <th>2</th>\n",
       "      <td>141895</td>\n",
       "      <td>0</td>\n",
       "      <td>0</td>\n",
       "      <td>84</td>\n",
       "      <td>Neuro ICU</td>\n",
       "      <td>35</td>\n",
       "      <td>-2</td>\n",
       "      <td>5867</td>\n",
       "      <td>5869</td>\n",
       "      <td>4.0757</td>\n",
       "      <td>...</td>\n",
       "      <td>15.0</td>\n",
       "      <td>18.0</td>\n",
       "      <td>NaN</td>\n",
       "      <td>NaN</td>\n",
       "      <td>9.7</td>\n",
       "      <td>2.6</td>\n",
       "      <td>0.91</td>\n",
       "      <td>176.0</td>\n",
       "      <td>NaN</td>\n",
       "      <td>NaN</td>\n",
       "    </tr>\n",
       "    <tr>\n",
       "      <th>3</th>\n",
       "      <td>141923</td>\n",
       "      <td>0</td>\n",
       "      <td>0</td>\n",
       "      <td>55</td>\n",
       "      <td>Med-Surg ICU</td>\n",
       "      <td>47</td>\n",
       "      <td>-13798</td>\n",
       "      <td>350</td>\n",
       "      <td>14148</td>\n",
       "      <td>9.8250</td>\n",
       "      <td>...</td>\n",
       "      <td>NaN</td>\n",
       "      <td>NaN</td>\n",
       "      <td>NaN</td>\n",
       "      <td>NaN</td>\n",
       "      <td>18.1</td>\n",
       "      <td>NaN</td>\n",
       "      <td>1.37</td>\n",
       "      <td>289.0</td>\n",
       "      <td>NaN</td>\n",
       "      <td>NaN</td>\n",
       "    </tr>\n",
       "    <tr>\n",
       "      <th>4</th>\n",
       "      <td>142096</td>\n",
       "      <td>0</td>\n",
       "      <td>1</td>\n",
       "      <td>54</td>\n",
       "      <td>Med-Surg ICU</td>\n",
       "      <td>41</td>\n",
       "      <td>-2</td>\n",
       "      <td>3668</td>\n",
       "      <td>3670</td>\n",
       "      <td>2.5486</td>\n",
       "      <td>...</td>\n",
       "      <td>39.0</td>\n",
       "      <td>120.0</td>\n",
       "      <td>NaN</td>\n",
       "      <td>NaN</td>\n",
       "      <td>5.2</td>\n",
       "      <td>2.3</td>\n",
       "      <td>0.79</td>\n",
       "      <td>74.0</td>\n",
       "      <td>NaN</td>\n",
       "      <td>NaN</td>\n",
       "    </tr>\n",
       "  </tbody>\n",
       "</table>\n",
       "<p>5 rows × 26 columns</p>\n",
       "</div>"
      ],
      "text/plain": [
       "   patientunitstayid  unitdischargestatus gender age      unitType  \\\n",
       "0             141470                    0      0  58  Med-Surg ICU   \n",
       "1             141515                    0      0  68     CCU-CTICU   \n",
       "2             141895                    0      0  84     Neuro ICU   \n",
       "3             141923                    0      0  55  Med-Surg ICU   \n",
       "4             142096                    0      1  54  Med-Surg ICU   \n",
       "\n",
       "   apachescore  hospitaladmitoffset  hospitaldischargeoffset  timeInHospital  \\\n",
       "0           48                   -5                    10679           10684   \n",
       "1          124                -1092                     9290           10382   \n",
       "2           35                   -2                     5867            5869   \n",
       "3           47               -13798                      350           14148   \n",
       "4           41                   -2                     3668            3670   \n",
       "\n",
       "   unabridgedhosplos      ...        ALT (SGPT)  AST (SGOT) CRP  LDH  \\\n",
       "0             7.4194      ...               NaN         NaN NaN  NaN   \n",
       "1             7.2097      ...              29.0        84.0 NaN  NaN   \n",
       "2             4.0757      ...              15.0        18.0 NaN  NaN   \n",
       "3             9.8250      ...               NaN         NaN NaN  NaN   \n",
       "4             2.5486      ...              39.0       120.0 NaN  NaN   \n",
       "\n",
       "   WBC x 1000  albumin  creatinine  platelets x 1000  total cholesterol  \\\n",
       "0        21.8      NaN        1.96             184.0                NaN   \n",
       "1        10.0      1.0        2.14              30.0                NaN   \n",
       "2         9.7      2.6        0.91             176.0                NaN   \n",
       "3        18.1      NaN        1.37             289.0                NaN   \n",
       "4         5.2      2.3        0.79              74.0                NaN   \n",
       "\n",
       "   triglycerides  \n",
       "0            NaN  \n",
       "1            NaN  \n",
       "2            NaN  \n",
       "3            NaN  \n",
       "4            NaN  \n",
       "\n",
       "[5 rows x 26 columns]"
      ]
     },
     "execution_count": 184,
     "metadata": {},
     "output_type": "execute_result"
    }
   ],
   "source": [
    "new_df.head()"
   ]
  },
  {
   "cell_type": "code",
   "execution_count": 29,
   "metadata": {},
   "outputs": [
    {
     "name": "stdout",
     "output_type": "stream",
     "text": [
      "<class 'pandas.core.frame.DataFrame'>\n",
      "Int64Index: 112298 entries, 0 to 112302\n",
      "Data columns (total 26 columns):\n",
      "patientunitstayid          112298 non-null int64\n",
      "unitdischargestatus        112298 non-null int64\n",
      "gender                     112287 non-null object\n",
      "age                        112291 non-null object\n",
      "unitType                   112298 non-null object\n",
      "apachescore                112298 non-null int64\n",
      "hospitaladmitoffset        112298 non-null int64\n",
      "hospitaldischargeoffset    112298 non-null int64\n",
      "timeInHospital             112298 non-null int64\n",
      "unabridgedhosplos          112298 non-null float64\n",
      "unabridgedunitlos          112298 non-null float64\n",
      "hospitalid                 112298 non-null int64\n",
      "region                     106764 non-null object\n",
      "-lymphs                    71363 non-null float64\n",
      "-monos                     70880 non-null float64\n",
      "-polys                     63813 non-null float64\n",
      "ALT (SGPT)                 61136 non-null float64\n",
      "AST (SGOT)                 61472 non-null float64\n",
      "CRP                        3993 non-null float64\n",
      "LDH                        5886 non-null float64\n",
      "WBC x 1000                 103812 non-null float64\n",
      "albumin                    65558 non-null float64\n",
      "creatinine                 105963 non-null float64\n",
      "platelets x 1000           103227 non-null float64\n",
      "total cholesterol          15828 non-null float64\n",
      "triglycerides              20753 non-null float64\n",
      "dtypes: float64(15), int64(7), object(4)\n",
      "memory usage: 23.1+ MB\n"
     ]
    }
   ],
   "source": [
    "new_df.info()"
   ]
  },
  {
   "cell_type": "code",
   "execution_count": 35,
   "metadata": {},
   "outputs": [
    {
     "data": {
      "text/plain": [
       "count    3993.000000\n",
       "mean       39.883853\n",
       "std        69.788076\n",
       "min         0.000000\n",
       "25%         4.010000\n",
       "50%        12.400000\n",
       "75%        30.900000\n",
       "max       577.800000\n",
       "Name: CRP, dtype: float64"
      ]
     },
     "execution_count": 35,
     "metadata": {},
     "output_type": "execute_result"
    }
   ],
   "source": [
    "# crp sumary\n",
    "new_df['CRP'].describe()"
   ]
  },
  {
   "cell_type": "code",
   "execution_count": 36,
   "metadata": {},
   "outputs": [
    {
     "data": {
      "text/plain": [
       "count    65558.000000\n",
       "mean         2.870120\n",
       "std          0.944412\n",
       "min          0.400000\n",
       "25%          2.400000\n",
       "50%          2.900000\n",
       "75%          3.300000\n",
       "max        100.000000\n",
       "Name: albumin, dtype: float64"
      ]
     },
     "execution_count": 36,
     "metadata": {},
     "output_type": "execute_result"
    }
   ],
   "source": [
    "# albumin summary\n",
    "new_df['albumin'].describe()"
   ]
  },
  {
   "cell_type": "code",
   "execution_count": 37,
   "metadata": {},
   "outputs": [
    {
     "data": {
      "text/plain": [
       "False    108588\n",
       "True       3710\n",
       "Name: CRP, dtype: int64"
      ]
     },
     "execution_count": 37,
     "metadata": {},
     "output_type": "execute_result"
    }
   ],
   "source": [
    "#print (new_df['CRP']>0.8).value_counts())\n",
    "#print (new_df['CRP']==0.0).value_counts()"
   ]
  },
  {
   "cell_type": "code",
   "execution_count": 39,
   "metadata": {},
   "outputs": [],
   "source": [
    "# drop zero values\n",
    "new_df_1 = new_df[new_df['CRP']!=0.0]"
   ]
  },
  {
   "cell_type": "code",
   "execution_count": 41,
   "metadata": {},
   "outputs": [
    {
     "data": {
      "text/plain": [
       "(112286, 26)"
      ]
     },
     "execution_count": 41,
     "metadata": {},
     "output_type": "execute_result"
    }
   ],
   "source": [
    "new_df_1.shape"
   ]
  },
  {
   "cell_type": "code",
   "execution_count": 42,
   "metadata": {},
   "outputs": [],
   "source": [
    "columns = ['age','apachescore','hospitaladmitoffset','hospitaldischargeoffset','timeInHospital','unabridgedhosplos',\n",
    "       'unabridgedunitlos','-lymphs','-monos','-polys','ALT (SGPT)', 'AST (SGOT)','CRP','LDH','WBC x 1000',\n",
    "          'albumin','creatinine','platelets x 1000','total cholesterol','triglycerides']"
   ]
  },
  {
   "cell_type": "code",
   "execution_count": 43,
   "metadata": {},
   "outputs": [],
   "source": [
    "# convert albumin from str to float\n",
    "new_df_1['albumin'] = new_df_1['albumin'].astype(float)"
   ]
  },
  {
   "cell_type": "code",
   "execution_count": 48,
   "metadata": {},
   "outputs": [],
   "source": [
    "# drop zero values\n",
    "new_df_2 = new_df_1[new_df_1['albumin']!=0.0]"
   ]
  },
  {
   "cell_type": "code",
   "execution_count": 50,
   "metadata": {},
   "outputs": [],
   "source": [
    "# compute crp/alb\n",
    "new_df_2['crp_alb'] = (new_df_2.CRP/new_df_2['albumin'])"
   ]
  },
  {
   "cell_type": "code",
   "execution_count": 51,
   "metadata": {},
   "outputs": [
    {
     "data": {
      "text/plain": [
       "count    2876.000000\n",
       "mean       20.105129\n",
       "std        34.984671\n",
       "min         0.005882\n",
       "25%         2.152422\n",
       "50%         6.096875\n",
       "75%        17.663961\n",
       "max       284.285714\n",
       "Name: crp_alb, dtype: float64"
      ]
     },
     "execution_count": 51,
     "metadata": {},
     "output_type": "execute_result"
    }
   ],
   "source": [
    "new_df_2['crp_alb'].describe()"
   ]
  },
  {
   "cell_type": "code",
   "execution_count": 52,
   "metadata": {},
   "outputs": [],
   "source": [
    "# drop age >89 patients\n",
    "new_df_3 =new_df_2[new_df_2['age']!='> 89']"
   ]
  },
  {
   "cell_type": "code",
   "execution_count": 53,
   "metadata": {
    "collapsed": true
   },
   "outputs": [
    {
     "data": {
      "text/plain": [
       "67    2737\n",
       "71    2602\n",
       "66    2592\n",
       "68    2577\n",
       "72    2539\n",
       "70    2522\n",
       "65    2517\n",
       "64    2438\n",
       "63    2432\n",
       "62    2391\n",
       "73    2380\n",
       "61    2357\n",
       "60    2333\n",
       "59    2313\n",
       "57    2302\n",
       "56    2294\n",
       "74    2288\n",
       "75    2273\n",
       "69    2260\n",
       "77    2258\n",
       "55    2253\n",
       "76    2241\n",
       "58    2162\n",
       "78    2152\n",
       "54    2062\n",
       "79    2060\n",
       "53    1975\n",
       "80    1915\n",
       "81    1892\n",
       "52    1865\n",
       "      ... \n",
       "34     674\n",
       "32     626\n",
       "30     608\n",
       "24     576\n",
       "26     568\n",
       "27     565\n",
       "31     554\n",
       "28     536\n",
       "25     521\n",
       "21     512\n",
       "29     500\n",
       "23     486\n",
       "22     483\n",
       "19     453\n",
       "20     423\n",
       "18     335\n",
       "17     162\n",
       "16      79\n",
       "15      41\n",
       "14      17\n",
       "13      11\n",
       "12       6\n",
       "0        5\n",
       "11       4\n",
       "9        3\n",
       "7        2\n",
       "10       2\n",
       "8        2\n",
       "1        1\n",
       "4        1\n",
       "Name: age, Length: 86, dtype: int64"
      ]
     },
     "execution_count": 53,
     "metadata": {},
     "output_type": "execute_result"
    }
   ],
   "source": [
    "new_df_3.age.value_counts()"
   ]
  },
  {
   "cell_type": "code",
   "execution_count": 55,
   "metadata": {},
   "outputs": [],
   "source": [
    "# drop null values from age\n",
    "new_df_3 = new_df_3.dropna(subset=['age'])"
   ]
  },
  {
   "cell_type": "code",
   "execution_count": 56,
   "metadata": {},
   "outputs": [],
   "source": [
    "new_df_3.age = new_df_3.age.astype(int)"
   ]
  },
  {
   "cell_type": "code",
   "execution_count": 57,
   "metadata": {},
   "outputs": [],
   "source": [
    "data = pd.read_csv(\"C:/Users/310293241/Desktop/datathon/data/560.csv\",encoding='utf-8')"
   ]
  },
  {
   "cell_type": "code",
   "execution_count": 59,
   "metadata": {},
   "outputs": [
    {
     "data": {
      "text/html": [
       "<div>\n",
       "<style scoped>\n",
       "    .dataframe tbody tr th:only-of-type {\n",
       "        vertical-align: middle;\n",
       "    }\n",
       "\n",
       "    .dataframe tbody tr th {\n",
       "        vertical-align: top;\n",
       "    }\n",
       "\n",
       "    .dataframe thead th {\n",
       "        text-align: right;\n",
       "    }\n",
       "</style>\n",
       "<table border=\"1\" class=\"dataframe\">\n",
       "  <thead>\n",
       "    <tr style=\"text-align: right;\">\n",
       "      <th></th>\n",
       "      <th>Unnamed: 0</th>\n",
       "      <th>V1</th>\n",
       "      <th>pipeihaoma</th>\n",
       "      <th>patientunitstayid</th>\n",
       "      <th>unitdischargestatus</th>\n",
       "      <th>gender</th>\n",
       "      <th>age</th>\n",
       "      <th>unitType</th>\n",
       "      <th>apachescore</th>\n",
       "      <th>hospitaladmitoffset</th>\n",
       "      <th>...</th>\n",
       "      <th>x</th>\n",
       "      <th>@1000</th>\n",
       "      <th>total</th>\n",
       "      <th>cholesterol</th>\n",
       "      <th>triglycerides</th>\n",
       "      <th>crp_alb</th>\n",
       "      <th>ps</th>\n",
       "      <th>pipei</th>\n",
       "      <th>time</th>\n",
       "      <th>three_qua</th>\n",
       "    </tr>\n",
       "  </thead>\n",
       "  <tbody>\n",
       "    <tr>\n",
       "      <th>0</th>\n",
       "      <td>0</td>\n",
       "      <td>55978</td>\n",
       "      <td>1</td>\n",
       "      <td>141297</td>\n",
       "      <td>1</td>\n",
       "      <td>1</td>\n",
       "      <td>63</td>\n",
       "      <td>SICU</td>\n",
       "      <td>86</td>\n",
       "      <td>-8174</td>\n",
       "      <td>...</td>\n",
       "      <td></td>\n",
       "      <td></td>\n",
       "      <td></td>\n",
       "      <td></td>\n",
       "      <td></td>\n",
       "      <td>8.208333</td>\n",
       "      <td>0.194413</td>\n",
       "      <td>153938</td>\n",
       "      <td>1</td>\n",
       "      <td>2</td>\n",
       "    </tr>\n",
       "    <tr>\n",
       "      <th>1</th>\n",
       "      <td>1</td>\n",
       "      <td>84700</td>\n",
       "      <td>2</td>\n",
       "      <td>199499</td>\n",
       "      <td>1</td>\n",
       "      <td>0</td>\n",
       "      <td>77</td>\n",
       "      <td>SICU</td>\n",
       "      <td>87</td>\n",
       "      <td>-10</td>\n",
       "      <td>...</td>\n",
       "      <td></td>\n",
       "      <td></td>\n",
       "      <td></td>\n",
       "      <td></td>\n",
       "      <td></td>\n",
       "      <td>3.481481</td>\n",
       "      <td>0.184099</td>\n",
       "      <td>141362</td>\n",
       "      <td>1</td>\n",
       "      <td>2</td>\n",
       "    </tr>\n",
       "    <tr>\n",
       "      <th>2</th>\n",
       "      <td>2</td>\n",
       "      <td>42430</td>\n",
       "      <td>3</td>\n",
       "      <td>208829</td>\n",
       "      <td>1</td>\n",
       "      <td>0</td>\n",
       "      <td>81</td>\n",
       "      <td>Med-Surg</td>\n",
       "      <td>ICU</td>\n",
       "      <td>68</td>\n",
       "      <td>...</td>\n",
       "      <td></td>\n",
       "      <td></td>\n",
       "      <td></td>\n",
       "      <td></td>\n",
       "      <td></td>\n",
       "      <td>0.146341</td>\n",
       "      <td>0.098459</td>\n",
       "      <td>167518</td>\n",
       "      <td>1</td>\n",
       "      <td>1</td>\n",
       "    </tr>\n",
       "    <tr>\n",
       "      <th>3</th>\n",
       "      <td>3</td>\n",
       "      <td>99216</td>\n",
       "      <td>4</td>\n",
       "      <td>260998</td>\n",
       "      <td>1</td>\n",
       "      <td>1</td>\n",
       "      <td>64</td>\n",
       "      <td>Med-Surg</td>\n",
       "      <td>ICU</td>\n",
       "      <td>151</td>\n",
       "      <td>...</td>\n",
       "      <td></td>\n",
       "      <td></td>\n",
       "      <td></td>\n",
       "      <td></td>\n",
       "      <td></td>\n",
       "      <td>26.000000</td>\n",
       "      <td>0.099884</td>\n",
       "      <td>268435</td>\n",
       "      <td>1</td>\n",
       "      <td>3</td>\n",
       "    </tr>\n",
       "    <tr>\n",
       "      <th>4</th>\n",
       "      <td>4</td>\n",
       "      <td>42904</td>\n",
       "      <td>5</td>\n",
       "      <td>313744</td>\n",
       "      <td>1</td>\n",
       "      <td>0</td>\n",
       "      <td>31</td>\n",
       "      <td>Med-Surg</td>\n",
       "      <td>ICU</td>\n",
       "      <td>26</td>\n",
       "      <td>...</td>\n",
       "      <td></td>\n",
       "      <td></td>\n",
       "      <td></td>\n",
       "      <td></td>\n",
       "      <td></td>\n",
       "      <td>4.665217</td>\n",
       "      <td>0.044398</td>\n",
       "      <td>265546</td>\n",
       "      <td>1</td>\n",
       "      <td>2</td>\n",
       "    </tr>\n",
       "  </tbody>\n",
       "</table>\n",
       "<p>5 rows × 41 columns</p>\n",
       "</div>"
      ],
      "text/plain": [
       "   Unnamed: 0     V1  pipeihaoma  patientunitstayid  unitdischargestatus  \\\n",
       "0           0  55978           1             141297                    1   \n",
       "1           1  84700           2             199499                    1   \n",
       "2           2  42430           3             208829                    1   \n",
       "3           3  99216           4             260998                    1   \n",
       "4           4  42904           5             313744                    1   \n",
       "\n",
       "   gender  age  unitType apachescore  hospitaladmitoffset    ...      x  \\\n",
       "0       1   63      SICU          86                -8174    ...          \n",
       "1       0   77      SICU          87                  -10    ...          \n",
       "2       0   81  Med-Surg         ICU                   68    ...          \n",
       "3       1   64  Med-Surg         ICU                  151    ...          \n",
       "4       0   31  Med-Surg         ICU                   26    ...          \n",
       "\n",
       "   @1000  total  cholesterol  triglycerides    crp_alb        ps   pipei  \\\n",
       "0                                             8.208333  0.194413  153938   \n",
       "1                                             3.481481  0.184099  141362   \n",
       "2                                             0.146341  0.098459  167518   \n",
       "3                                            26.000000  0.099884  268435   \n",
       "4                                             4.665217  0.044398  265546   \n",
       "\n",
       "   time  three_qua  \n",
       "0     1          2  \n",
       "1     1          2  \n",
       "2     1          1  \n",
       "3     1          3  \n",
       "4     1          2  \n",
       "\n",
       "[5 rows x 41 columns]"
      ]
     },
     "execution_count": 59,
     "metadata": {},
     "output_type": "execute_result"
    }
   ],
   "source": [
    "data.head()"
   ]
  },
  {
   "cell_type": "code",
   "execution_count": 60,
   "metadata": {},
   "outputs": [],
   "source": [
    "data.rename(columns={'三分位数': 'three_qua','ps倾向性评分':'ps'}, inplace=True)"
   ]
  },
  {
   "cell_type": "code",
   "execution_count": 61,
   "metadata": {},
   "outputs": [],
   "source": [
    "data.to_csv(\"C:/Users/310293241/Desktop/datathon/data/560.csv\",encoding='utf-8')"
   ]
  },
  {
   "cell_type": "markdown",
   "metadata": {},
   "source": [
    "1.crp/alb 辑回归连续变量\n",
    "2. 三分位数\n"
   ]
  },
  {
   "cell_type": "code",
   "execution_count": 62,
   "metadata": {},
   "outputs": [],
   "source": [
    "import statsmodels.api as sm"
   ]
  },
  {
   "cell_type": "code",
   "execution_count": 204,
   "metadata": {},
   "outputs": [
    {
     "name": "stdout",
     "output_type": "stream",
     "text": [
      "Optimization terminated successfully.\n",
      "         Current function value: 0.672244\n",
      "         Iterations 5\n",
      "                          Results: Logit\n",
      "==================================================================\n",
      "Model:              Logit               Pseudo R-squared: 0.030   \n",
      "Dependent Variable: unitdischargestatus AIC:              754.9137\n",
      "Date:               2019-11-17 10:39    BIC:              759.2417\n",
      "No. Observations:   560                 Log-Likelihood:   -376.46 \n",
      "Df Model:           0                   LL-Null:          -388.16 \n",
      "Df Residuals:       559                 LLR p-value:      nan     \n",
      "Converged:          1.0000              Scale:            1.0000  \n",
      "No. Iterations:     5.0000                                        \n",
      "---------------------------------------------------------------------\n",
      "           Coef.     Std.Err.      z       P>|z|     [0.025    0.975]\n",
      "---------------------------------------------------------------------\n",
      "crp_alb    0.0126      0.0029    4.2979    0.0000    0.0069    0.0183\n",
      "==================================================================\n",
      "\n"
     ]
    }
   ],
   "source": [
    "# signal variable\n",
    "logit_model=sm.Logit(data['unitdischargestatus'],data['crp_alb'])\n",
    "result=logit_model.fit()\n",
    "print(result.summary2())"
   ]
  },
  {
   "cell_type": "code",
   "execution_count": 205,
   "metadata": {},
   "outputs": [
    {
     "data": {
      "text/plain": [
       "1.0126797144488495"
      ]
     },
     "execution_count": 205,
     "metadata": {},
     "output_type": "execute_result"
    }
   ],
   "source": [
    "import math\n",
    "math.exp(0.0126)"
   ]
  },
  {
   "cell_type": "code",
   "execution_count": 206,
   "metadata": {},
   "outputs": [
    {
     "data": {
      "text/html": [
       "<div>\n",
       "<style scoped>\n",
       "    .dataframe tbody tr th:only-of-type {\n",
       "        vertical-align: middle;\n",
       "    }\n",
       "\n",
       "    .dataframe tbody tr th {\n",
       "        vertical-align: top;\n",
       "    }\n",
       "\n",
       "    .dataframe thead th {\n",
       "        text-align: right;\n",
       "    }\n",
       "</style>\n",
       "<table border=\"1\" class=\"dataframe\">\n",
       "  <thead>\n",
       "    <tr style=\"text-align: right;\">\n",
       "      <th></th>\n",
       "      <th>2.5%</th>\n",
       "      <th>97.5%</th>\n",
       "      <th>OR</th>\n",
       "    </tr>\n",
       "  </thead>\n",
       "  <tbody>\n",
       "    <tr>\n",
       "      <th>crp_alb</th>\n",
       "      <td>1.006879</td>\n",
       "      <td>1.018518</td>\n",
       "      <td>1.012682</td>\n",
       "    </tr>\n",
       "  </tbody>\n",
       "</table>\n",
       "</div>"
      ],
      "text/plain": [
       "             2.5%     97.5%        OR\n",
       "crp_alb  1.006879  1.018518  1.012682"
      ]
     },
     "execution_count": 206,
     "metadata": {},
     "output_type": "execute_result"
    }
   ],
   "source": [
    "# 95% CI level\n",
    "params = result.params\n",
    "conf=result.conf_int()\n",
    "conf['OR'] = params\n",
    "conf.columns = ['2.5%','97.5%','OR']\n",
    "np.exp(conf)"
   ]
  },
  {
   "cell_type": "code",
   "execution_count": 152,
   "metadata": {
    "scrolled": true
   },
   "outputs": [
    {
     "data": {
      "text/html": [
       "<div>\n",
       "<style scoped>\n",
       "    .dataframe tbody tr th:only-of-type {\n",
       "        vertical-align: middle;\n",
       "    }\n",
       "\n",
       "    .dataframe tbody tr th {\n",
       "        vertical-align: top;\n",
       "    }\n",
       "\n",
       "    .dataframe thead th {\n",
       "        text-align: right;\n",
       "    }\n",
       "</style>\n",
       "<table border=\"1\" class=\"dataframe\">\n",
       "  <thead>\n",
       "    <tr style=\"text-align: right;\">\n",
       "      <th></th>\n",
       "      <th>Unnamed: 0</th>\n",
       "      <th>V1</th>\n",
       "      <th>pipeihaoma</th>\n",
       "      <th>patientunitstayid</th>\n",
       "      <th>unitdischargestatus</th>\n",
       "      <th>gender</th>\n",
       "      <th>age</th>\n",
       "      <th>unitType</th>\n",
       "      <th>apachescore</th>\n",
       "      <th>hospitaladmitoffset</th>\n",
       "      <th>...</th>\n",
       "      <th>x</th>\n",
       "      <th>@1000</th>\n",
       "      <th>total</th>\n",
       "      <th>cholesterol</th>\n",
       "      <th>triglycerides</th>\n",
       "      <th>crp_alb</th>\n",
       "      <th>ps</th>\n",
       "      <th>pipei</th>\n",
       "      <th>time</th>\n",
       "      <th>three_qua</th>\n",
       "    </tr>\n",
       "  </thead>\n",
       "  <tbody>\n",
       "    <tr>\n",
       "      <th>0</th>\n",
       "      <td>0</td>\n",
       "      <td>55978</td>\n",
       "      <td>1</td>\n",
       "      <td>141297</td>\n",
       "      <td>1</td>\n",
       "      <td>1</td>\n",
       "      <td>63</td>\n",
       "      <td>SICU</td>\n",
       "      <td>86</td>\n",
       "      <td>-8174</td>\n",
       "      <td>...</td>\n",
       "      <td></td>\n",
       "      <td></td>\n",
       "      <td></td>\n",
       "      <td></td>\n",
       "      <td></td>\n",
       "      <td>8.208333</td>\n",
       "      <td>0.194413</td>\n",
       "      <td>153938</td>\n",
       "      <td>1</td>\n",
       "      <td>2</td>\n",
       "    </tr>\n",
       "    <tr>\n",
       "      <th>1</th>\n",
       "      <td>1</td>\n",
       "      <td>84700</td>\n",
       "      <td>2</td>\n",
       "      <td>199499</td>\n",
       "      <td>1</td>\n",
       "      <td>0</td>\n",
       "      <td>77</td>\n",
       "      <td>SICU</td>\n",
       "      <td>87</td>\n",
       "      <td>-10</td>\n",
       "      <td>...</td>\n",
       "      <td></td>\n",
       "      <td></td>\n",
       "      <td></td>\n",
       "      <td></td>\n",
       "      <td></td>\n",
       "      <td>3.481481</td>\n",
       "      <td>0.184099</td>\n",
       "      <td>141362</td>\n",
       "      <td>1</td>\n",
       "      <td>2</td>\n",
       "    </tr>\n",
       "    <tr>\n",
       "      <th>2</th>\n",
       "      <td>2</td>\n",
       "      <td>42430</td>\n",
       "      <td>3</td>\n",
       "      <td>208829</td>\n",
       "      <td>1</td>\n",
       "      <td>0</td>\n",
       "      <td>81</td>\n",
       "      <td>Med-Surg</td>\n",
       "      <td>ICU</td>\n",
       "      <td>68</td>\n",
       "      <td>...</td>\n",
       "      <td></td>\n",
       "      <td></td>\n",
       "      <td></td>\n",
       "      <td></td>\n",
       "      <td></td>\n",
       "      <td>0.146341</td>\n",
       "      <td>0.098459</td>\n",
       "      <td>167518</td>\n",
       "      <td>1</td>\n",
       "      <td>1</td>\n",
       "    </tr>\n",
       "    <tr>\n",
       "      <th>3</th>\n",
       "      <td>3</td>\n",
       "      <td>99216</td>\n",
       "      <td>4</td>\n",
       "      <td>260998</td>\n",
       "      <td>1</td>\n",
       "      <td>1</td>\n",
       "      <td>64</td>\n",
       "      <td>Med-Surg</td>\n",
       "      <td>ICU</td>\n",
       "      <td>151</td>\n",
       "      <td>...</td>\n",
       "      <td></td>\n",
       "      <td></td>\n",
       "      <td></td>\n",
       "      <td></td>\n",
       "      <td></td>\n",
       "      <td>26.000000</td>\n",
       "      <td>0.099884</td>\n",
       "      <td>268435</td>\n",
       "      <td>1</td>\n",
       "      <td>3</td>\n",
       "    </tr>\n",
       "    <tr>\n",
       "      <th>4</th>\n",
       "      <td>4</td>\n",
       "      <td>42904</td>\n",
       "      <td>5</td>\n",
       "      <td>313744</td>\n",
       "      <td>1</td>\n",
       "      <td>0</td>\n",
       "      <td>31</td>\n",
       "      <td>Med-Surg</td>\n",
       "      <td>ICU</td>\n",
       "      <td>26</td>\n",
       "      <td>...</td>\n",
       "      <td></td>\n",
       "      <td></td>\n",
       "      <td></td>\n",
       "      <td></td>\n",
       "      <td></td>\n",
       "      <td>4.665217</td>\n",
       "      <td>0.044398</td>\n",
       "      <td>265546</td>\n",
       "      <td>1</td>\n",
       "      <td>2</td>\n",
       "    </tr>\n",
       "  </tbody>\n",
       "</table>\n",
       "<p>5 rows × 41 columns</p>\n",
       "</div>"
      ],
      "text/plain": [
       "   Unnamed: 0     V1  pipeihaoma  patientunitstayid  unitdischargestatus  \\\n",
       "0           0  55978           1             141297                    1   \n",
       "1           1  84700           2             199499                    1   \n",
       "2           2  42430           3             208829                    1   \n",
       "3           3  99216           4             260998                    1   \n",
       "4           4  42904           5             313744                    1   \n",
       "\n",
       "   gender  age  unitType apachescore  hospitaladmitoffset    ...      x  \\\n",
       "0       1   63      SICU          86                -8174    ...          \n",
       "1       0   77      SICU          87                  -10    ...          \n",
       "2       0   81  Med-Surg         ICU                   68    ...          \n",
       "3       1   64  Med-Surg         ICU                  151    ...          \n",
       "4       0   31  Med-Surg         ICU                   26    ...          \n",
       "\n",
       "   @1000  total  cholesterol  triglycerides    crp_alb        ps   pipei  \\\n",
       "0                                             8.208333  0.194413  153938   \n",
       "1                                             3.481481  0.184099  141362   \n",
       "2                                             0.146341  0.098459  167518   \n",
       "3                                            26.000000  0.099884  268435   \n",
       "4                                             4.665217  0.044398  265546   \n",
       "\n",
       "   time  three_qua  \n",
       "0     1          2  \n",
       "1     1          2  \n",
       "2     1          1  \n",
       "3     1          3  \n",
       "4     1          2  \n",
       "\n",
       "[5 rows x 41 columns]"
      ]
     },
     "execution_count": 152,
     "metadata": {},
     "output_type": "execute_result"
    }
   ],
   "source": [
    "data.head()"
   ]
  },
  {
   "cell_type": "code",
   "execution_count": 156,
   "metadata": {},
   "outputs": [],
   "source": [
    "df_icu= data[data['apachescore']=='ICU']\n",
    "df_no_icu = data[data['apachescore']!='ICU']\n",
    "df_no_icu['apachescore'] = df_no_icu['apachescore'].astype(float)\n",
    "df_no_icu['apachescore'] = abs(df_no_icu['apachescore'])\n",
    "df_icu.loc[df_icu.apachescore  == 'ICU', 'apachescore'] = 70.02765\n",
    "data = pd.concat ([df_icu,df_no_icu])"
   ]
  },
  {
   "cell_type": "code",
   "execution_count": 157,
   "metadata": {},
   "outputs": [],
   "source": [
    "data['apachescore'] = data['apachescore'].astype(float)"
   ]
  },
  {
   "cell_type": "code",
   "execution_count": 158,
   "metadata": {},
   "outputs": [
    {
     "name": "stdout",
     "output_type": "stream",
     "text": [
      "Optimization terminated successfully.\n",
      "         Current function value: 0.671150\n",
      "         Iterations 5\n",
      "                           Results: Logit\n",
      "====================================================================\n",
      "Model:              Logit               Pseudo R-squared: 0.032     \n",
      "Dependent Variable: unitdischargestatus AIC:              755.6877  \n",
      "Date:               2019-11-17 09:59    BIC:              764.3436  \n",
      "No. Observations:   560                 Log-Likelihood:   -375.84   \n",
      "Df Model:           1                   LL-Null:          -388.16   \n",
      "Df Residuals:       558                 LLR p-value:      6.9206e-07\n",
      "Converged:          1.0000              Scale:            1.0000    \n",
      "No. Iterations:     5.0000                                          \n",
      "----------------------------------------------------------------------\n",
      "               Coef.    Std.Err.      z      P>|z|     [0.025   0.975]\n",
      "----------------------------------------------------------------------\n",
      "crp_alb        0.0146     0.0035    4.1303   0.0000    0.0076   0.0215\n",
      "apachescore   -0.0015     0.0014   -1.1052   0.2691   -0.0042   0.0012\n",
      "====================================================================\n",
      "\n"
     ]
    }
   ],
   "source": [
    "# multi_varibales\n",
    "# crp_alb, age\n",
    "cols=['crp_alb', 'apachescore'] \n",
    "X=data[cols]\n",
    "y=data['unitdischargestatus']\n",
    "logit_model=sm.Logit(y,X)\n",
    "result=logit_model.fit()\n",
    "print(result.summary2())"
   ]
  },
  {
   "cell_type": "code",
   "execution_count": 186,
   "metadata": {},
   "outputs": [
    {
     "data": {
      "text/html": [
       "<div>\n",
       "<style scoped>\n",
       "    .dataframe tbody tr th:only-of-type {\n",
       "        vertical-align: middle;\n",
       "    }\n",
       "\n",
       "    .dataframe tbody tr th {\n",
       "        vertical-align: top;\n",
       "    }\n",
       "\n",
       "    .dataframe thead th {\n",
       "        text-align: right;\n",
       "    }\n",
       "</style>\n",
       "<table border=\"1\" class=\"dataframe\">\n",
       "  <thead>\n",
       "    <tr style=\"text-align: right;\">\n",
       "      <th></th>\n",
       "      <th>2.5%</th>\n",
       "      <th>97.5%</th>\n",
       "      <th>OR</th>\n",
       "    </tr>\n",
       "  </thead>\n",
       "  <tbody>\n",
       "    <tr>\n",
       "      <th>crp_alb</th>\n",
       "      <td>1.007676</td>\n",
       "      <td>1.021689</td>\n",
       "      <td>1.014658</td>\n",
       "    </tr>\n",
       "    <tr>\n",
       "      <th>apachescore</th>\n",
       "      <td>0.995794</td>\n",
       "      <td>1.001176</td>\n",
       "      <td>0.998481</td>\n",
       "    </tr>\n",
       "  </tbody>\n",
       "</table>\n",
       "</div>"
      ],
      "text/plain": [
       "                 2.5%     97.5%        OR\n",
       "crp_alb      1.007676  1.021689  1.014658\n",
       "apachescore  0.995794  1.001176  0.998481"
      ]
     },
     "execution_count": 186,
     "metadata": {},
     "output_type": "execute_result"
    }
   ],
   "source": [
    "params = result.params\n",
    "conf=result.conf_int()\n",
    "conf['OR'] = params\n",
    "conf.columns = ['2.5%','97.5%','OR']\n",
    "np.exp(conf)"
   ]
  },
  {
   "cell_type": "code",
   "execution_count": 150,
   "metadata": {},
   "outputs": [
    {
     "name": "stdout",
     "output_type": "stream",
     "text": [
      "Optimization terminated successfully.\n",
      "         Current function value: 0.670222\n",
      "         Iterations 5\n",
      "                           Results: Logit\n",
      "====================================================================\n",
      "Model:              Logit               Pseudo R-squared: 0.033     \n",
      "Dependent Variable: unitdischargestatus AIC:              754.6488  \n",
      "Date:               2019-11-17 09:44    BIC:              763.3047  \n",
      "No. Observations:   560                 Log-Likelihood:   -375.32   \n",
      "Df Model:           1                   LL-Null:          -388.16   \n",
      "Df Residuals:       558                 LLR p-value:      4.0381e-07\n",
      "Converged:          1.0000              Scale:            1.0000    \n",
      "No. Iterations:     5.0000                                          \n",
      "----------------------------------------------------------------------\n",
      "               Coef.    Std.Err.      z      P>|z|     [0.025   0.975]\n",
      "----------------------------------------------------------------------\n",
      "crp_alb        0.0145     0.0033    4.4163   0.0000    0.0081   0.0209\n",
      "gender        -0.1822     0.1213   -1.5019   0.1331   -0.4200   0.0556\n",
      "====================================================================\n",
      "\n"
     ]
    }
   ],
   "source": [
    "# multi_varibales\n",
    "# crp_alb, age, gender\n",
    "cols=['crp_alb','gender'] \n",
    "X=data[cols]\n",
    "y=data['unitdischargestatus']\n",
    "logit_model=sm.Logit(y,X)\n",
    "result=logit_model.fit()\n",
    "print(result.summary2())"
   ]
  },
  {
   "cell_type": "code",
   "execution_count": 151,
   "metadata": {},
   "outputs": [
    {
     "data": {
      "text/html": [
       "<div>\n",
       "<style scoped>\n",
       "    .dataframe tbody tr th:only-of-type {\n",
       "        vertical-align: middle;\n",
       "    }\n",
       "\n",
       "    .dataframe tbody tr th {\n",
       "        vertical-align: top;\n",
       "    }\n",
       "\n",
       "    .dataframe thead th {\n",
       "        text-align: right;\n",
       "    }\n",
       "</style>\n",
       "<table border=\"1\" class=\"dataframe\">\n",
       "  <thead>\n",
       "    <tr style=\"text-align: right;\">\n",
       "      <th></th>\n",
       "      <th>2.5%</th>\n",
       "      <th>97.5%</th>\n",
       "      <th>OR</th>\n",
       "    </tr>\n",
       "  </thead>\n",
       "  <tbody>\n",
       "    <tr>\n",
       "      <th>crp_alb</th>\n",
       "      <td>1.008085</td>\n",
       "      <td>1.021123</td>\n",
       "      <td>1.014583</td>\n",
       "    </tr>\n",
       "    <tr>\n",
       "      <th>gender</th>\n",
       "      <td>0.657079</td>\n",
       "      <td>1.057140</td>\n",
       "      <td>0.833442</td>\n",
       "    </tr>\n",
       "  </tbody>\n",
       "</table>\n",
       "</div>"
      ],
      "text/plain": [
       "             2.5%     97.5%        OR\n",
       "crp_alb  1.008085  1.021123  1.014583\n",
       "gender   0.657079  1.057140  0.833442"
      ]
     },
     "execution_count": 151,
     "metadata": {},
     "output_type": "execute_result"
    }
   ],
   "source": [
    "params = result.params\n",
    "conf=result.conf_int()\n",
    "conf['OR'] = params\n",
    "conf.columns = ['2.5%','97.5%','OR']\n",
    "np.exp(conf)"
   ]
  },
  {
   "cell_type": "code",
   "execution_count": null,
   "metadata": {},
   "outputs": [],
   "source": []
  },
  {
   "cell_type": "code",
   "execution_count": null,
   "metadata": {},
   "outputs": [],
   "source": []
  },
  {
   "cell_type": "code",
   "execution_count": null,
   "metadata": {},
   "outputs": [],
   "source": []
  },
  {
   "cell_type": "code",
   "execution_count": 66,
   "metadata": {},
   "outputs": [
    {
     "data": {
      "text/plain": [
       "array([2, 1, 3], dtype=int64)"
      ]
     },
     "execution_count": 66,
     "metadata": {},
     "output_type": "execute_result"
    }
   ],
   "source": [
    "data['three_qua'].unique()"
   ]
  },
  {
   "cell_type": "code",
   "execution_count": 68,
   "metadata": {},
   "outputs": [],
   "source": [
    "# group 1 as reference to compare\n",
    "dff_1  = data [(data ['three_qua']!=3)]"
   ]
  },
  {
   "cell_type": "code",
   "execution_count": 69,
   "metadata": {},
   "outputs": [
    {
     "name": "stdout",
     "output_type": "stream",
     "text": [
      "Optimization terminated successfully.\n",
      "         Current function value: 0.684884\n",
      "         Iterations 4\n",
      "                          Results: Logit\n",
      "==================================================================\n",
      "Model:              Logit               Pseudo R-squared: -0.008  \n",
      "Dependent Variable: unitdischargestatus AIC:              514.2932\n",
      "Date:               2019-11-16 22:44    BIC:              518.2174\n",
      "No. Observations:   374                 Log-Likelihood:   -256.15 \n",
      "Df Model:           0                   LL-Null:          -254.07 \n",
      "Df Residuals:       373                 LLR p-value:      nan     \n",
      "Converged:          1.0000              Scale:            1.0000  \n",
      "No. Iterations:     4.0000                                        \n",
      "-------------------------------------------------------------------\n",
      "                Coef.   Std.Err.     z     P>|z|    [0.025   0.975]\n",
      "-------------------------------------------------------------------\n",
      "three_qua      -0.1633    0.0660  -2.4722  0.0134  -0.2927  -0.0338\n",
      "==================================================================\n",
      "\n"
     ]
    }
   ],
   "source": [
    "#1:2\n",
    "# group 1 as reference to compare\n",
    "logit_model=sm.Logit(dff_1['unitdischargestatus'],dff_1['three_qua'])\n",
    "result=logit_model.fit()\n",
    "print(result.summary2())"
   ]
  },
  {
   "cell_type": "code",
   "execution_count": 70,
   "metadata": {},
   "outputs": [
    {
     "data": {
      "text/plain": [
       "0.8493363492858464"
      ]
     },
     "execution_count": 70,
     "metadata": {},
     "output_type": "execute_result"
    }
   ],
   "source": [
    "math.exp(-0.1633)"
   ]
  },
  {
   "cell_type": "code",
   "execution_count": 71,
   "metadata": {},
   "outputs": [
    {
     "name": "stdout",
     "output_type": "stream",
     "text": [
      "Optimization terminated successfully.\n",
      "         Current function value: 0.679280\n",
      "         Iterations 4\n",
      "                          Results: Logit\n",
      "==================================================================\n",
      "Model:              Logit               Pseudo R-squared: 0.019   \n",
      "Dependent Variable: unitdischargestatus AIC:              507.3844\n",
      "Date:               2019-11-16 22:44    BIC:              511.3033\n",
      "No. Observations:   372                 Log-Likelihood:   -252.69 \n",
      "Df Model:           0                   LL-Null:          -257.59 \n",
      "Df Residuals:       371                 LLR p-value:      nan     \n",
      "Converged:          1.0000              Scale:            1.0000  \n",
      "No. Iterations:     4.0000                                        \n",
      "--------------------------------------------------------------------\n",
      "               Coef.    Std.Err.     z      P>|z|    [0.025   0.975]\n",
      "--------------------------------------------------------------------\n",
      "three_qua      0.1507     0.0475   3.1752   0.0015   0.0577   0.2437\n",
      "==================================================================\n",
      "\n"
     ]
    }
   ],
   "source": [
    "# 1:3\n",
    "# group 1 as reference to compare\n",
    "dff_2 = data[data['three_qua']!=2]\n",
    "logit_model=sm.Logit(dff_2['unitdischargestatus'],dff_2['three_qua'])\n",
    "result=logit_model.fit()\n",
    "print(result.summary2())"
   ]
  },
  {
   "cell_type": "code",
   "execution_count": 72,
   "metadata": {},
   "outputs": [
    {
     "data": {
      "text/plain": [
       "1.1626478114140122"
      ]
     },
     "execution_count": 72,
     "metadata": {},
     "output_type": "execute_result"
    }
   ],
   "source": [
    "math.exp(  0.1507 )"
   ]
  },
  {
   "cell_type": "code",
   "execution_count": 73,
   "metadata": {},
   "outputs": [
    {
     "name": "stdout",
     "output_type": "stream",
     "text": [
      "Optimization terminated successfully.\n",
      "         Current function value: 0.684884\n",
      "         Iterations 4\n",
      "                          Results: Logit\n",
      "==================================================================\n",
      "Model:              Logit               Pseudo R-squared: -0.008  \n",
      "Dependent Variable: unitdischargestatus AIC:              514.2932\n",
      "Date:               2019-11-16 22:44    BIC:              518.2174\n",
      "No. Observations:   374                 Log-Likelihood:   -256.15 \n",
      "Df Model:           0                   LL-Null:          -254.07 \n",
      "Df Residuals:       373                 LLR p-value:      nan     \n",
      "Converged:          1.0000              Scale:            1.0000  \n",
      "No. Iterations:     4.0000                                        \n",
      "-------------------------------------------------------------------\n",
      "                Coef.   Std.Err.     z     P>|z|    [0.025   0.975]\n",
      "-------------------------------------------------------------------\n",
      "three_qua      -0.1633    0.0660  -2.4722  0.0134  -0.2927  -0.0338\n",
      "==================================================================\n",
      "\n"
     ]
    }
   ],
   "source": [
    "#\n",
    "dff_3 = data[data['three_qua']!=3]\n",
    "logit_model=sm.Logit(dff_3['unitdischargestatus'],dff_3['three_qua'])\n",
    "result=logit_model.fit()\n",
    "print(result.summary2())"
   ]
  },
  {
   "cell_type": "code",
   "execution_count": 74,
   "metadata": {},
   "outputs": [
    {
     "data": {
      "text/plain": [
       "0.8493363492858464"
      ]
     },
     "execution_count": 74,
     "metadata": {},
     "output_type": "execute_result"
    }
   ],
   "source": [
    "math.exp( -0.1633)"
   ]
  },
  {
   "cell_type": "code",
   "execution_count": 77,
   "metadata": {},
   "outputs": [],
   "source": [
    "#new_df_3.to_csv('case_study_data.csv')"
   ]
  },
  {
   "cell_type": "code",
   "execution_count": 79,
   "metadata": {},
   "outputs": [
    {
     "data": {
      "text/html": [
       "<div>\n",
       "<style scoped>\n",
       "    .dataframe tbody tr th:only-of-type {\n",
       "        vertical-align: middle;\n",
       "    }\n",
       "\n",
       "    .dataframe tbody tr th {\n",
       "        vertical-align: top;\n",
       "    }\n",
       "\n",
       "    .dataframe thead th {\n",
       "        text-align: right;\n",
       "    }\n",
       "</style>\n",
       "<table border=\"1\" class=\"dataframe\">\n",
       "  <thead>\n",
       "    <tr style=\"text-align: right;\">\n",
       "      <th></th>\n",
       "      <th>patientunitstayid</th>\n",
       "      <th>unitdischargestatus</th>\n",
       "      <th>gender</th>\n",
       "      <th>age</th>\n",
       "      <th>unitType</th>\n",
       "      <th>apachescore</th>\n",
       "      <th>hospitaladmitoffset</th>\n",
       "      <th>hospitaldischargeoffset</th>\n",
       "      <th>timeInHospital</th>\n",
       "      <th>unabridgedhosplos</th>\n",
       "      <th>...</th>\n",
       "      <th>AST (SGOT)</th>\n",
       "      <th>CRP</th>\n",
       "      <th>LDH</th>\n",
       "      <th>WBC x 1000</th>\n",
       "      <th>albumin</th>\n",
       "      <th>creatinine</th>\n",
       "      <th>platelets x 1000</th>\n",
       "      <th>total cholesterol</th>\n",
       "      <th>triglycerides</th>\n",
       "      <th>crp_alb</th>\n",
       "    </tr>\n",
       "  </thead>\n",
       "  <tbody>\n",
       "    <tr>\n",
       "      <th>0</th>\n",
       "      <td>141470</td>\n",
       "      <td>0</td>\n",
       "      <td>0</td>\n",
       "      <td>58</td>\n",
       "      <td>Med-Surg ICU</td>\n",
       "      <td>48</td>\n",
       "      <td>-5</td>\n",
       "      <td>10679</td>\n",
       "      <td>10684</td>\n",
       "      <td>7.4194</td>\n",
       "      <td>...</td>\n",
       "      <td>NaN</td>\n",
       "      <td>NaN</td>\n",
       "      <td>NaN</td>\n",
       "      <td>21.8</td>\n",
       "      <td>NaN</td>\n",
       "      <td>1.96</td>\n",
       "      <td>184.0</td>\n",
       "      <td>NaN</td>\n",
       "      <td>NaN</td>\n",
       "      <td>NaN</td>\n",
       "    </tr>\n",
       "    <tr>\n",
       "      <th>1</th>\n",
       "      <td>141515</td>\n",
       "      <td>0</td>\n",
       "      <td>0</td>\n",
       "      <td>68</td>\n",
       "      <td>CCU-CTICU</td>\n",
       "      <td>124</td>\n",
       "      <td>-1092</td>\n",
       "      <td>9290</td>\n",
       "      <td>10382</td>\n",
       "      <td>7.2097</td>\n",
       "      <td>...</td>\n",
       "      <td>84.0</td>\n",
       "      <td>NaN</td>\n",
       "      <td>NaN</td>\n",
       "      <td>10.0</td>\n",
       "      <td>1.0</td>\n",
       "      <td>2.14</td>\n",
       "      <td>30.0</td>\n",
       "      <td>NaN</td>\n",
       "      <td>NaN</td>\n",
       "      <td>NaN</td>\n",
       "    </tr>\n",
       "    <tr>\n",
       "      <th>2</th>\n",
       "      <td>141895</td>\n",
       "      <td>0</td>\n",
       "      <td>0</td>\n",
       "      <td>84</td>\n",
       "      <td>Neuro ICU</td>\n",
       "      <td>35</td>\n",
       "      <td>-2</td>\n",
       "      <td>5867</td>\n",
       "      <td>5869</td>\n",
       "      <td>4.0757</td>\n",
       "      <td>...</td>\n",
       "      <td>18.0</td>\n",
       "      <td>NaN</td>\n",
       "      <td>NaN</td>\n",
       "      <td>9.7</td>\n",
       "      <td>2.6</td>\n",
       "      <td>0.91</td>\n",
       "      <td>176.0</td>\n",
       "      <td>NaN</td>\n",
       "      <td>NaN</td>\n",
       "      <td>NaN</td>\n",
       "    </tr>\n",
       "    <tr>\n",
       "      <th>3</th>\n",
       "      <td>141923</td>\n",
       "      <td>0</td>\n",
       "      <td>0</td>\n",
       "      <td>55</td>\n",
       "      <td>Med-Surg ICU</td>\n",
       "      <td>47</td>\n",
       "      <td>-13798</td>\n",
       "      <td>350</td>\n",
       "      <td>14148</td>\n",
       "      <td>9.8250</td>\n",
       "      <td>...</td>\n",
       "      <td>NaN</td>\n",
       "      <td>NaN</td>\n",
       "      <td>NaN</td>\n",
       "      <td>18.1</td>\n",
       "      <td>NaN</td>\n",
       "      <td>1.37</td>\n",
       "      <td>289.0</td>\n",
       "      <td>NaN</td>\n",
       "      <td>NaN</td>\n",
       "      <td>NaN</td>\n",
       "    </tr>\n",
       "    <tr>\n",
       "      <th>4</th>\n",
       "      <td>142096</td>\n",
       "      <td>0</td>\n",
       "      <td>1</td>\n",
       "      <td>54</td>\n",
       "      <td>Med-Surg ICU</td>\n",
       "      <td>41</td>\n",
       "      <td>-2</td>\n",
       "      <td>3668</td>\n",
       "      <td>3670</td>\n",
       "      <td>2.5486</td>\n",
       "      <td>...</td>\n",
       "      <td>120.0</td>\n",
       "      <td>NaN</td>\n",
       "      <td>NaN</td>\n",
       "      <td>5.2</td>\n",
       "      <td>2.3</td>\n",
       "      <td>0.79</td>\n",
       "      <td>74.0</td>\n",
       "      <td>NaN</td>\n",
       "      <td>NaN</td>\n",
       "      <td>NaN</td>\n",
       "    </tr>\n",
       "  </tbody>\n",
       "</table>\n",
       "<p>5 rows × 27 columns</p>\n",
       "</div>"
      ],
      "text/plain": [
       "   patientunitstayid  unitdischargestatus gender  age      unitType  \\\n",
       "0             141470                    0      0   58  Med-Surg ICU   \n",
       "1             141515                    0      0   68     CCU-CTICU   \n",
       "2             141895                    0      0   84     Neuro ICU   \n",
       "3             141923                    0      0   55  Med-Surg ICU   \n",
       "4             142096                    0      1   54  Med-Surg ICU   \n",
       "\n",
       "   apachescore  hospitaladmitoffset  hospitaldischargeoffset  timeInHospital  \\\n",
       "0           48                   -5                    10679           10684   \n",
       "1          124                -1092                     9290           10382   \n",
       "2           35                   -2                     5867            5869   \n",
       "3           47               -13798                      350           14148   \n",
       "4           41                   -2                     3668            3670   \n",
       "\n",
       "   unabridgedhosplos   ...     AST (SGOT)  CRP LDH  WBC x 1000  albumin  \\\n",
       "0             7.4194   ...            NaN  NaN NaN        21.8      NaN   \n",
       "1             7.2097   ...           84.0  NaN NaN        10.0      1.0   \n",
       "2             4.0757   ...           18.0  NaN NaN         9.7      2.6   \n",
       "3             9.8250   ...            NaN  NaN NaN        18.1      NaN   \n",
       "4             2.5486   ...          120.0  NaN NaN         5.2      2.3   \n",
       "\n",
       "   creatinine  platelets x 1000  total cholesterol  triglycerides  crp_alb  \n",
       "0        1.96             184.0                NaN            NaN      NaN  \n",
       "1        2.14              30.0                NaN            NaN      NaN  \n",
       "2        0.91             176.0                NaN            NaN      NaN  \n",
       "3        1.37             289.0                NaN            NaN      NaN  \n",
       "4        0.79              74.0                NaN            NaN      NaN  \n",
       "\n",
       "[5 rows x 27 columns]"
      ]
     },
     "execution_count": 79,
     "metadata": {},
     "output_type": "execute_result"
    }
   ],
   "source": [
    "new_df_3.head()"
   ]
  },
  {
   "cell_type": "code",
   "execution_count": 80,
   "metadata": {},
   "outputs": [
    {
     "data": {
      "text/html": [
       "<div>\n",
       "<style scoped>\n",
       "    .dataframe tbody tr th:only-of-type {\n",
       "        vertical-align: middle;\n",
       "    }\n",
       "\n",
       "    .dataframe tbody tr th {\n",
       "        vertical-align: top;\n",
       "    }\n",
       "\n",
       "    .dataframe thead th {\n",
       "        text-align: right;\n",
       "    }\n",
       "</style>\n",
       "<table border=\"1\" class=\"dataframe\">\n",
       "  <thead>\n",
       "    <tr style=\"text-align: right;\">\n",
       "      <th></th>\n",
       "      <th>Unnamed: 0</th>\n",
       "      <th>V1</th>\n",
       "      <th>pipeihaoma</th>\n",
       "      <th>patientunitstayid</th>\n",
       "      <th>unitdischargestatus</th>\n",
       "      <th>gender</th>\n",
       "      <th>age</th>\n",
       "      <th>unitType</th>\n",
       "      <th>apachescore</th>\n",
       "      <th>hospitaladmitoffset</th>\n",
       "      <th>...</th>\n",
       "      <th>x</th>\n",
       "      <th>@1000</th>\n",
       "      <th>total</th>\n",
       "      <th>cholesterol</th>\n",
       "      <th>triglycerides</th>\n",
       "      <th>crp_alb</th>\n",
       "      <th>ps</th>\n",
       "      <th>pipei</th>\n",
       "      <th>time</th>\n",
       "      <th>three_qua</th>\n",
       "    </tr>\n",
       "  </thead>\n",
       "  <tbody>\n",
       "    <tr>\n",
       "      <th>0</th>\n",
       "      <td>0</td>\n",
       "      <td>55978</td>\n",
       "      <td>1</td>\n",
       "      <td>141297</td>\n",
       "      <td>1</td>\n",
       "      <td>1</td>\n",
       "      <td>63</td>\n",
       "      <td>SICU</td>\n",
       "      <td>86</td>\n",
       "      <td>-8174</td>\n",
       "      <td>...</td>\n",
       "      <td></td>\n",
       "      <td></td>\n",
       "      <td></td>\n",
       "      <td></td>\n",
       "      <td></td>\n",
       "      <td>8.208333</td>\n",
       "      <td>0.194413</td>\n",
       "      <td>153938</td>\n",
       "      <td>1</td>\n",
       "      <td>2</td>\n",
       "    </tr>\n",
       "    <tr>\n",
       "      <th>1</th>\n",
       "      <td>1</td>\n",
       "      <td>84700</td>\n",
       "      <td>2</td>\n",
       "      <td>199499</td>\n",
       "      <td>1</td>\n",
       "      <td>0</td>\n",
       "      <td>77</td>\n",
       "      <td>SICU</td>\n",
       "      <td>87</td>\n",
       "      <td>-10</td>\n",
       "      <td>...</td>\n",
       "      <td></td>\n",
       "      <td></td>\n",
       "      <td></td>\n",
       "      <td></td>\n",
       "      <td></td>\n",
       "      <td>3.481481</td>\n",
       "      <td>0.184099</td>\n",
       "      <td>141362</td>\n",
       "      <td>1</td>\n",
       "      <td>2</td>\n",
       "    </tr>\n",
       "    <tr>\n",
       "      <th>2</th>\n",
       "      <td>2</td>\n",
       "      <td>42430</td>\n",
       "      <td>3</td>\n",
       "      <td>208829</td>\n",
       "      <td>1</td>\n",
       "      <td>0</td>\n",
       "      <td>81</td>\n",
       "      <td>Med-Surg</td>\n",
       "      <td>ICU</td>\n",
       "      <td>68</td>\n",
       "      <td>...</td>\n",
       "      <td></td>\n",
       "      <td></td>\n",
       "      <td></td>\n",
       "      <td></td>\n",
       "      <td></td>\n",
       "      <td>0.146341</td>\n",
       "      <td>0.098459</td>\n",
       "      <td>167518</td>\n",
       "      <td>1</td>\n",
       "      <td>1</td>\n",
       "    </tr>\n",
       "    <tr>\n",
       "      <th>3</th>\n",
       "      <td>3</td>\n",
       "      <td>99216</td>\n",
       "      <td>4</td>\n",
       "      <td>260998</td>\n",
       "      <td>1</td>\n",
       "      <td>1</td>\n",
       "      <td>64</td>\n",
       "      <td>Med-Surg</td>\n",
       "      <td>ICU</td>\n",
       "      <td>151</td>\n",
       "      <td>...</td>\n",
       "      <td></td>\n",
       "      <td></td>\n",
       "      <td></td>\n",
       "      <td></td>\n",
       "      <td></td>\n",
       "      <td>26.000000</td>\n",
       "      <td>0.099884</td>\n",
       "      <td>268435</td>\n",
       "      <td>1</td>\n",
       "      <td>3</td>\n",
       "    </tr>\n",
       "    <tr>\n",
       "      <th>4</th>\n",
       "      <td>4</td>\n",
       "      <td>42904</td>\n",
       "      <td>5</td>\n",
       "      <td>313744</td>\n",
       "      <td>1</td>\n",
       "      <td>0</td>\n",
       "      <td>31</td>\n",
       "      <td>Med-Surg</td>\n",
       "      <td>ICU</td>\n",
       "      <td>26</td>\n",
       "      <td>...</td>\n",
       "      <td></td>\n",
       "      <td></td>\n",
       "      <td></td>\n",
       "      <td></td>\n",
       "      <td></td>\n",
       "      <td>4.665217</td>\n",
       "      <td>0.044398</td>\n",
       "      <td>265546</td>\n",
       "      <td>1</td>\n",
       "      <td>2</td>\n",
       "    </tr>\n",
       "  </tbody>\n",
       "</table>\n",
       "<p>5 rows × 41 columns</p>\n",
       "</div>"
      ],
      "text/plain": [
       "   Unnamed: 0     V1  pipeihaoma  patientunitstayid  unitdischargestatus  \\\n",
       "0           0  55978           1             141297                    1   \n",
       "1           1  84700           2             199499                    1   \n",
       "2           2  42430           3             208829                    1   \n",
       "3           3  99216           4             260998                    1   \n",
       "4           4  42904           5             313744                    1   \n",
       "\n",
       "   gender  age  unitType apachescore  hospitaladmitoffset    ...      x  \\\n",
       "0       1   63      SICU          86                -8174    ...          \n",
       "1       0   77      SICU          87                  -10    ...          \n",
       "2       0   81  Med-Surg         ICU                   68    ...          \n",
       "3       1   64  Med-Surg         ICU                  151    ...          \n",
       "4       0   31  Med-Surg         ICU                   26    ...          \n",
       "\n",
       "   @1000  total  cholesterol  triglycerides    crp_alb        ps   pipei  \\\n",
       "0                                             8.208333  0.194413  153938   \n",
       "1                                             3.481481  0.184099  141362   \n",
       "2                                             0.146341  0.098459  167518   \n",
       "3                                            26.000000  0.099884  268435   \n",
       "4                                             4.665217  0.044398  265546   \n",
       "\n",
       "   time  three_qua  \n",
       "0     1          2  \n",
       "1     1          2  \n",
       "2     1          1  \n",
       "3     1          3  \n",
       "4     1          2  \n",
       "\n",
       "[5 rows x 41 columns]"
      ]
     },
     "execution_count": 80,
     "metadata": {},
     "output_type": "execute_result"
    }
   ],
   "source": [
    "data.head()"
   ]
  },
  {
   "cell_type": "code",
   "execution_count": 81,
   "metadata": {},
   "outputs": [],
   "source": [
    "import sklearn.metrics as metrics"
   ]
  },
  {
   "cell_type": "code",
   "execution_count": 82,
   "metadata": {},
   "outputs": [],
   "source": [
    "import warnings\n",
    "warnings.filterwarnings('ignore')"
   ]
  },
  {
   "cell_type": "code",
   "execution_count": 84,
   "metadata": {},
   "outputs": [],
   "source": [
    "col = {\n",
    "        'gender': 'gender',\n",
    "        'age': 'age',\n",
    "        'apachescore': 'apachescore',\n",
    "        'crp_alb': 'crp_alb'\n",
    "    }\n",
    "df_death = data[data['unitdischargestatus']==1]\n",
    "df_death['unitdischargestatus'] = 1\n",
    "df_alive = data[data['unitdischargestatus']==0]\n",
    "df_alive['unitdischargestatus'] = 0\n",
    "df = pd.concat([df_death,df_alive])\n",
    "df = df[['gender','age','apachescore','crp_alb','unitdischargestatus']]\n",
    "    \n",
    "    \n",
    "    #del df_hii['Unnamed: 0']\n",
    "   # del df_hii['index'] \n",
    "    #del df_hii['Label_HII']\n",
    "    #del df_nohii['Unnamed: 0']\n",
    "    #del df_nohii['index'] \n",
    "    #del df_nohii['Label_HII']\n",
    "    \n",
    "df_icu= df[df['apachescore']=='ICU']\n",
    "df_no_icu = df[df['apachescore']!='ICU']\n",
    "df_no_icu['apachescore'] = df_no_icu['apachescore'].astype(float)\n",
    "df_no_icu['apachescore'] = abs(df_no_icu['apachescore'])\n",
    "df_icu.loc[df_icu.apachescore  == 'ICU', 'apachescore'] = 70.02765\n",
    "df = pd.concat([df_icu,df_no_icu])\n",
    "    #col_list = ['bp_s_i','bp_s','hr','bun','abe','hematocrit','wbc-leukocyte','co2','creatinine','fio2','paco2',\n",
    "            #'temp_degc','hemoglobin','shock_idx','age','HII']\n",
    "    \n",
    "df = df.astype('float')\n",
    "    \n",
    "    #final_df = final_df[columns].astype('float')\n",
    "    #collist = df.columns[:-1].values\n",
    "    #X = df.iloc[:, :-1].values\n",
    "    #y = df.iloc[:, -1].values"
   ]
  },
  {
   "cell_type": "code",
   "execution_count": 100,
   "metadata": {},
   "outputs": [],
   "source": [
    "#inp_df = df[['gender','age','apachescore','crp_alb']]\n",
    "#out_df = df[['unitdischargestatus']]\n",
    "\n",
    "## split tarin and text data\n",
    "#X_train, X_test, y_train, y_test = train_test_split(inp_df, out_df, test_size=0.2, random_state=42)"
   ]
  },
  {
   "cell_type": "code",
   "execution_count": 191,
   "metadata": {},
   "outputs": [],
   "source": [
    "# builde model \n",
    "class BayesSearchCV(object):\n",
    "    def __init__(self, X_train, y_train, build_model, space):\n",
    "        self.X_train = X_train\n",
    "        self.y_train = y_train\n",
    "        self.build_model = build_model\n",
    "        self.space = space\n",
    "\n",
    "    def model_metric(self, argsDict):\n",
    "        model = self.build_model(argsDict)\n",
    "        metric = cross_val_score(model, self.X_train, self.y_train, cv=2, scoring=\"roc_auc\").mean()\n",
    "        return -metric\n",
    "\n",
    "    def fit(self):\n",
    "        algo = partial(tpe.suggest, n_startup_jobs=1)\n",
    "        best = fmin(self.model_metric, self.space, algo=algo, max_evals=4,\n",
    "                    rstate=np.random.RandomState(42))\n",
    "        model = self.build_model(best)\n",
    "        model.fit(self.X_train, self.y_train)\n",
    "        return model\n",
    "\n",
    "\n",
    "def logistic_regression_model():\n",
    "    if search_way in ['grid_search', 'no_search']:\n",
    "        model = linear_model.LogisticRegression(C=1.0, penalty='l1', solver='saga', multi_class='multinomial',\n",
    "                                                class_weight='balanced')\n",
    "        param_grid = [\n",
    "            {'C': np.logspace(1, 3, 3)}\n",
    "        ]\n",
    "        return model, param_grid\n",
    "\n",
    "    if search_way == 'bayes_search':\n",
    "        def build_model(argsDict):\n",
    "            return linear_model.LogisticRegression(C=argsDict[\"C\"], penalty='l1', solver='saga',\n",
    "                                                   multi_class='multinomial', class_weight='balanced')\n",
    "\n",
    "        space = {\"C\": hp.uniform(\"C\", 0, 10),\n",
    "                 # \"max_iter\": hp.randint(\"max_iter\", 300),\n",
    "                 # \"penalty\": hp.choice(\"penalty\", ['l2']),  #'l1', 'elasticnet',,  'none']\n",
    "                 # \"solver\": hp.choice(\"solver\", {'newton-cg', 'lbfgs', 'sag', 'saga'}),  # 'liblinear'\n",
    "                 # \"multi_class\": hp.choice(\"multi_class\", {'ovr', 'multinomial'}),\n",
    "                 }\n",
    "        return build_model, space\n",
    "\n",
    "\n",
    "def svc_model():\n",
    "    if search_way in ['grid_search', 'no_search']:\n",
    "        model = svm.SVC(gamma=0.001, C=0.0001, probability=True, class_weight='balanced')\n",
    "        param_grid = [\n",
    "            {'gamma': np.logspace(-4, -2, 3), 'C': np.logspace(5, 7, 3)}\n",
    "        ]\n",
    "        return model, param_grid\n",
    "\n",
    "    if search_way == 'bayes_search':\n",
    "        def build_model(argsDict):\n",
    "            return svm.SVC(gamma=argsDict['gamma'], C=argsDict['C'],\n",
    "                           # kernel=argsDict['kernel'], degree=argsDict['degree'],\n",
    "                           # coef0=argsDict['coef0'],\n",
    "                           probability=True, class_weight='balanced')\n",
    "\n",
    "        space = {\"C\": hp.uniform(\"C\", 0, 1000000),\n",
    "                 'gamma': hp.uniform(\"gamma\", 0, 0.0001),\n",
    "                 # 'kernel': hp.choice(\"kernel\", ['poly', 'rbf', 'sigmoid']),\n",
    "                 # 'degree': hp.randint(\"degree\", 8),\n",
    "                 # 'coef0': hp.uniform(\"coef0\", 0, 10),\n",
    "                 }\n",
    "        return build_model, space\n",
    "\n",
    "\n",
    "def random_forest_model():\n",
    "    if search_way in ['grid_search', 'no_search']:\n",
    "        model = ensemble.RandomForestClassifier(class_weight='balanced')\n",
    "        param_grid = [\n",
    "            {'n_estimators': [10, 100, 500, 1000], 'max_features': ['auto', 'sqrt'], },\n",
    "        ]\n",
    "        return model, param_grid\n",
    "\n",
    "    if search_way == 'bayes_search':\n",
    "        def build_model(argsDict):\n",
    "            return ensemble.RandomForestClassifier(class_weight='balanced',\n",
    "                                                   n_estimators=argsDict[\"n_estimators\"],\n",
    "                                                   # max_features=argsDict[\"max_features\"],\n",
    "                                                   # max_depth=argsDict[\"max_depth\"],\n",
    "                                                   # min_samples_split=argsDict[\"min_samples_split\"],\n",
    "                                                   # min_samples_leaf=argsDict[\"min_samples_leaf\"],\n",
    "                                                   # max_leaf_nodes=argsDict[\"max_leaf_nodes\"],\n",
    "                                                   )\n",
    "\n",
    "        space = {'n_estimators': hp.randint(\"n_estimators\", 300),\n",
    "                 # 'max_features': hp.choice(\"max_features\", ['auto', 'sqrt', 'log2', None]),\n",
    "                 # 'max_depth': hp.choice(\"max_depth\", range(1, 200)),\n",
    "                 # 'min_samples_split': hp.choice(\"min_samples_split\", range(3, 10)),\n",
    "                 # 'min_samples_leaf': hp.choice(\"min_samples_leaf\", range(1, 10)),\n",
    "                 # 'max_leaf_nodes': hp.choice(\"max_leaf_nodes\", range(1, 100)),\n",
    "                 # 'min_impurity_decrease': hp.randint(\"min_impurity_decrease\", 10),\n",
    "                 }\n",
    "        return build_model, space\n",
    "\n",
    "\n",
    "def xgboost_model():\n",
    "    if search_way in ['grid_search', 'no_search']:\n",
    "        other_params = {\n",
    "            'reg_alpha': 3, 'reg_lambda': 3\n",
    "        }\n",
    "        model = XGBClassifier(class_weight='balanced', **other_params)\n",
    "        param_grid = [\n",
    "            {'n_estimators': [100, 500, 1000], 'max_depth': [4, 5, 6], 'min_child_weight': [1, 3, 5],\n",
    "             'gamma': [0, 0.5, 1]}\n",
    "        ]\n",
    "        return model, param_grid\n",
    "\n",
    "    if search_way == 'bayes_search':\n",
    "        def build_model(argsDict):\n",
    "            return XGBClassifier(nthread=4,  # steps\n",
    "                                 max_depth=argsDict[\"max_depth\"],  # max_depth\n",
    "                                 n_estimators=argsDict['n_estimators'],  # num trees\n",
    "                                 learning_rate=argsDict[\"learning_rate\"],  # learning rate\n",
    "                                 subsample=argsDict[\"subsample\"],  # num subsample\n",
    "                                 colsample_bytree=argsDict[\"colsample_bytree\"],\n",
    "                                 min_child_weight=argsDict[\"min_child_weight\"],  # child num\n",
    "                                 max_delta_step=10,  # 10步不降则停止\n",
    "                                 gamma=argsDict[\"gamma\"],\n",
    "                                 # objective=\"binary:logistic\"\n",
    "                                 # reg_alpha=argsDict[\"reg_alpha\"],\n",
    "                                 # reg_lambda=argsDict[\"reg_lambda\"],\n",
    "                                 class_weight='balanced'\n",
    "                                 )\n",
    "\n",
    "        space = {\"max_depth\": hp.randint(\"max_depth\", 10),\n",
    "                 \"n_estimators\": hp.randint(\"n_estimators\", 180),  # [0,1,2,3,4,5] -> [50,]\n",
    "                 \"learning_rate\": hp.uniform(\"learning_rate\", 0.01, 0.2),  # [0,1,2,3,4,5] -> 0.05,0.06\n",
    "                 \"subsample\": hp.uniform(\"subsample\", 0.5, 1),  # [0,1,2,3] -> [0.7,0.8,0.9,1.0]\n",
    "                 \"min_child_weight\": hp.uniform(\"min_child_weight\", 0.5, 8),  #\n",
    "                 \"colsample_bytree\": hp.uniform(\"colsample_bytree\", 0.5, 1),\n",
    "                 \"gamma\": hp.uniform(\"gamma\", 0, 1),\n",
    "                 # \"reg_alpha\": hp.uniform(\"reg_alpha\", 0, 4),\n",
    "                 # \"reg_lambda\": hp.uniform(\"reg_lambda\", 0, 4)\n",
    "                 }\n",
    "        return build_model, space\n",
    "\n",
    "\n",
    "def mlp_model():\n",
    "    if search_way in ['grid_search', 'no_search']:\n",
    "        model = neural_network.MLPClassifier()\n",
    "        param_grid = [\n",
    "            {'hidden_layer_sizes': [100, 500, 1000], 'alpha': [10.0 ** i for i in range(-5, 1)]}\n",
    "        ]\n",
    "        return model, param_grid\n",
    "\n",
    "    if search_way == 'bayes_search':\n",
    "        def build_model(argsDict):\n",
    "            activations = ['identity', 'logistic', 'tanh', 'relu']\n",
    "            solvers = ['lbfgs', 'sgd', 'adam']\n",
    "\n",
    "            activation = argsDict['activation']\n",
    "            if isinstance(activation, int):\n",
    "                argsDict['activation'] = activations[activation]\n",
    "            solver = argsDict['solver']\n",
    "            if isinstance(solver, int):\n",
    "                argsDict['solver'] = solvers[solver]\n",
    "            return neural_network.MLPClassifier(alpha=argsDict['alpha'],\n",
    "                                                hidden_layer_sizes=argsDict['hidden_layer_sizes'],\n",
    "                                                activation=argsDict['activation'],\n",
    "                                                solver=argsDict['solver'],\n",
    "                                                momentum=argsDict['momentum'],\n",
    "                                                )\n",
    "\n",
    "        space = {\n",
    "            'hidden_layer_sizes': hp.randint(\"hidden_layer_sizes\", 500),\n",
    "            'alpha': hp.uniform(\"alpha\", 0, 0.1),\n",
    "            'activation': hp.choice(\"activation\", ['identity', 'logistic', 'tanh', 'relu']),\n",
    "            'solver': hp.choice(\"solver\", ['lbfgs', 'sgd', 'adam']),\n",
    "            'momentum': hp.uniform('momentum', 0, 1),\n",
    "        }\n",
    "        return build_model, space\n",
    "\n",
    "\n",
    "def knn_model():\n",
    "    if search_way in ['grid_search', 'no_search']:\n",
    "        model = neighbors.KNeighborsClassifier()\n",
    "        param_grid = [\n",
    "            {'n_neighbors': [i for i in range(1, 10)], 'weights': ['uniform', 'distance']}\n",
    "        ]\n",
    "        return model, param_grid\n",
    "\n",
    "    if search_way == 'bayes_search':\n",
    "        def build_model(argsDict):\n",
    "            algorithms = [\"auto\", \"ball_tree\", \"kd_tree\", \"brute\"]\n",
    "            weights = [\"uniform\", \"distance\"]\n",
    "\n",
    "            algorithm = argsDict['algorithm']\n",
    "            if isinstance(algorithm, int):\n",
    "                argsDict['algorithm'] = algorithms[algorithm]\n",
    "            weight = argsDict['weights']\n",
    "            if isinstance(weight, int):\n",
    "                argsDict['weights'] = weights[weight]\n",
    "            return neighbors.KNeighborsClassifier(n_neighbors=argsDict['n_neighbors'],\n",
    "                                                  weights=argsDict['weights'],  # argsDict['weights'],\n",
    "                                                  algorithm=argsDict['algorithm'],\n",
    "                                                  # p=argsDict['p']\n",
    "                                                  )\n",
    "        space = {\n",
    "            'n_neighbors': hp.choice(\"n_neighbors\", range(1, 20)),\n",
    "            'algorithm': hp.choice('algorithm', [\"auto\", \"ball_tree\", \"kd_tree\", \"brute\"]),\n",
    "            'weights': hp.choice(\"weights\", [\"uniform\", \"distance\"]),\n",
    "            # 'p': hp.choice('p', range(1, 5)),\n",
    "        }\n",
    "        return build_model, space\n",
    "\n",
    "\n",
    "class ImbalanceClassifier(object):\n",
    "    def __init__(self, X_train, y_train, X_test, y_test, build_model):\n",
    "        self.X_train = X_train\n",
    "        self.y_train = y_train\n",
    "        self.X_test = X_test\n",
    "        self.y_test = y_test\n",
    "        self.build_model = build_model\n",
    "        self.negative_k_folds = negative_k_folds\n",
    "\n",
    "    def preprocess(self):\n",
    "        # fill na\n",
    "        imputer = Imputer(strategy=\"median\")\n",
    "        imputer.fit(self.X_train)\n",
    "        self.X_train, self.X_test = imputer.transform(self.X_train), imputer.transform(self.X_test)\n",
    "\n",
    "        # normalize features\n",
    "        scaler = MinMaxScaler()\n",
    "        # scaler = StandardScaler()\n",
    "        scaler.fit(self.X_train)\n",
    "        self.X_train, self.X_test = scaler.transform(self.X_train), scaler.transform(self.X_test)\n",
    "\n",
    "    def calc_model_performance(self):\n",
    "        y_test = self.y_test\n",
    "        self.preprocess()\n",
    "\n",
    "        # print('train model...')\n",
    "        y_predict_all, y_predict_score_all, feature_importants = self.build_imbalance_model()\n",
    "\n",
    "        true_negative, false_positive, false_negative, true_positive = confusion_matrix(y_test, y_predict_all).ravel()\n",
    "        specificity = true_negative / (true_negative + false_positive)\n",
    "        # sensitivity = true_positive / (true_positive + false_negative)\n",
    "\n",
    "        score = {\n",
    "            'accuracy': accuracy_score(y_test, y_predict_all),\n",
    "            'precision': precision_score(y_test, y_predict_all, average='macro'),\n",
    "            'recall': recall_score(y_test, y_predict_all, average='macro'),\n",
    "            'f1_score': f1_score(y_test, y_predict_all, average='macro'),\n",
    "            # 'confusion_matrix': confusion_matrix(y_test, y_predict_all),\n",
    "            'auc': roc_auc_score(y_test, y_predict_score_all),\n",
    "            'specificity': specificity,\n",
    "        }\n",
    "\n",
    "        # pprint(score)\n",
    "\n",
    "        if is_show_roc:\n",
    "            fpr, tpr, thresholds = roc_curve(y_test, y_predict_score_all)\n",
    "            #fpr1, tpr1, threshold1 = metrics.roc_curve(df_2['HII'], df_2['Pre_HII'])\n",
    "            plt.plot([0, 1], [0, 1],'r--')\n",
    "            plt.figure()\n",
    "            plt.plot(fpr, tpr, 'green', label = 'XGboost' )\n",
    "            plt.plot([0, 1], [0, 1],'r--',label = 'Baseline')\n",
    "            #plt.plot(fpr1, tpr1, 'r', label = 'Orginal HII')\n",
    "            plt.legend(loc = 'lower right')\n",
    "            plt.xlabel('False Positive Rate')\n",
    "            plt.ylabel('True Positive Rate')\n",
    "            plt.title('ROC')\n",
    "\n",
    "        return score, feature_importants\n",
    "\n",
    "    def build_imbalance_model(self):\n",
    "        X_train, y_train, X_test, y_test = self.X_train, self.y_train, self.X_test, self.y_test\n",
    "\n",
    "        if self.negative_k_folds > 1:\n",
    "            # split to positive and negative\n",
    "            X_pos, y_pos, X_neg, y_neg = self.split_pos_neg()\n",
    "\n",
    "            # train model with positive and 1/n negative\n",
    "            y_predict_all = []\n",
    "            y_predict_prob_all = []\n",
    "            y_predict_score_all = []\n",
    "            feature_importants_all = []\n",
    "\n",
    "            kfolds = StratifiedKFold(n_splits=self.negative_k_folds)\n",
    "            for more_index, less_index in kfolds.split(X_neg, y_neg):\n",
    "                X_neg_sub, y_neg_sub = X_neg[less_index], y_neg[less_index]\n",
    "                X_train, y_train = np.row_stack((X_pos, X_neg_sub)), np.concatenate((y_pos, y_neg_sub))\n",
    "                y_predict, y_predict_prob, y_predict_score, feature_importants = \\\n",
    "                    BalanceClassifier(X_train, y_train, X_test, y_test, build_model).calc_model_performance()\n",
    "\n",
    "                y_predict_all.append(y_predict)\n",
    "                y_predict_prob_all.append(y_predict_prob)\n",
    "                y_predict_score_all.append(y_predict_score)\n",
    "                feature_importants_all.append(feature_importants)\n",
    "\n",
    "            # merge result of all sub-model\n",
    "            # y_predict = np.sum(y_predict_all, axis=0)\n",
    "            # y_predict[y_predict >= self.negative_k_folds / 2] = 1\n",
    "            # y_predict[y_predict < self.negative_k_folds / 2] = 0\n",
    "            y_predict_prob = np.sum(y_predict_prob_all, axis=0)\n",
    "            y_predict = y_predict_prob[:, 1] >= y_predict_prob[:, 0]\n",
    "\n",
    "            y_predict_score = np.mean(y_predict_score_all, axis=0)\n",
    "            feature_importants = np.mean(feature_importants_all, axis=0)\n",
    "        else:\n",
    "            y_predict, y_predict_prob, y_predict_score, feature_importants = \\\n",
    "                BalanceClassifier(X_train, y_train, X_test, y_test, build_model).calc_model_performance()\n",
    "\n",
    "        return y_predict, y_predict_score, feature_importants\n",
    "\n",
    "    def split_pos_neg(self):\n",
    "        df_clean = pd.DataFrame(self.X_train)\n",
    "        df_clean['result'] = self.y_train\n",
    "        df_pos = df_clean[df_clean[\"result\"] == 1]\n",
    "        df_neg = df_clean[df_clean[\"result\"] == 0]\n",
    "        X_pos, y_pos = df_pos.iloc[:, :-1].values, df_pos.iloc[:, -1].values\n",
    "        X_neg, y_neg = df_neg.iloc[:, :-1].values, df_neg.iloc[:, -1].values\n",
    "\n",
    "        return X_pos, y_pos, X_neg, y_neg\n",
    "\n",
    "\n",
    "class BalanceClassifier(object):\n",
    "    def __init__(self, X_train, y_train, X_test, y_test, build_model):\n",
    "        self.X_train = X_train\n",
    "        self.y_train = y_train\n",
    "        self.X_test = X_test\n",
    "        self.y_test = y_test\n",
    "        self.build_model = build_model\n",
    "\n",
    "    def calc_model_performance(self):\n",
    "        # # shuffle the train data\n",
    "        # shuffle_index = np.random.permutation(len(self.X_train))\n",
    "        # self.X_train, self.y_train = self.X_train[shuffle_index], self.y_train[shuffle_index]\n",
    "\n",
    "        # print('building model...')\n",
    "        model, space = build_model()\n",
    "\n",
    "        # print('training model...')\n",
    "        model = self.train(model, space)\n",
    "\n",
    "        # print('predict...')\n",
    "        X_test = self.X_test\n",
    "        y_predict = model.predict(X_test)\n",
    "        y_predict_prob = model.predict_proba(X_test)\n",
    "        y_predict_score = model.decision_function(X_test) if build_model == svc_model else model.predict_proba(X_test)[\n",
    "                                                                                           :, 1]\n",
    "        if build_model == random_forest_model or build_model == xgboost_model:\n",
    "            feature_importants = model.feature_importances_\n",
    "        elif build_model == logistic_regression_model:\n",
    "            feature_importants = model.coef_[0]\n",
    "        else:\n",
    "            feature_importants = []\n",
    "\n",
    "        return y_predict, y_predict_prob, y_predict_score, feature_importants\n",
    "\n",
    "    def train(self, model, space):\n",
    "        if search_way == 'no_search':\n",
    "            print('no optimization for hyper-parameter')\n",
    "            model.fit(self.X_train, self.y_train)\n",
    "\n",
    "        if search_way == 'grid_search':\n",
    "            print('optimize hyper-parameter via grid search')\n",
    "            grid_search = GridSearchCV(model, space, scoring='roc_auc', cv=2, n_jobs=-1)\n",
    "            grid_search.fit(self.X_train, self.y_train)\n",
    "            print(grid_search.best_params_)\n",
    "            model = grid_search.best_estimator_\n",
    "\n",
    "        if search_way == 'bayes_search':\n",
    "            print('optimize hyper-parameter via bayes search')\n",
    "            model = BayesSearchCV(self.X_train, self.y_train, model, space).fit()\n",
    "\n",
    "        return model\n",
    "\n",
    "\n",
    "class VAPClassifier(object):\n",
    "    def __init__(self, X, y, columns, fold=5):\n",
    "        self.X = X\n",
    "        self.y = y\n",
    "        self.columns = columns\n",
    "        self.fold = fold\n",
    "\n",
    "    def model_performance_kfolds(self):\n",
    "        scores = defaultdict(list)\n",
    "\n",
    "        # split train and test\n",
    "        kfolds = StratifiedKFold(n_splits=self.fold)\n",
    "        for i, (train_index, test_index) in enumerate(kfolds.split(X, y)):\n",
    "\n",
    "            # print('test model {0} of {1}'.format(i, fold))\n",
    "            X_train, y_train = X[train_index], y[train_index]\n",
    "            X_test, y_test = X[test_index], y[test_index]\n",
    "\n",
    "            score, feature_importants = ImbalanceClassifier(X_train, y_train, X_test, y_test,\n",
    "                                                            build_model).calc_model_performance()\n",
    "\n",
    "            for key, value in score.items():\n",
    "                scores[key].append(score[key])\n",
    "\n",
    "            if is_show_feature_importance and len(feature_importants) > 0:\n",
    "                sort_index = np.argsort(feature_importants)\n",
    "                feature_importants = feature_importants[sort_index]\n",
    "                columns = self.columns[sort_index]\n",
    "                plt.figure()\n",
    "                plt.barh(np.arange(len(feature_importants)), feature_importants)\n",
    "                plt.title('feature importance')\n",
    "                plt.yticks(np.arange(len(feature_importants)), columns)\n",
    "\n",
    "        return scores\n"
   ]
  },
  {
   "cell_type": "code",
   "execution_count": 198,
   "metadata": {},
   "outputs": [],
   "source": [
    "df_death = data[data['unitdischargestatus']==1]\n",
    "df_death['unitdischargestatus'] = 1\n",
    "df_alive = data[data['unitdischargestatus']==0]\n",
    "df_alive['unitdischargestatus'] = 0\n",
    "#df = pd.concat([df_death,df_alive])\n",
    "#df = df[['gender','age','apachescore','crp_alb','unitdischargestatus']]"
   ]
  },
  {
   "cell_type": "code",
   "execution_count": 199,
   "metadata": {},
   "outputs": [],
   "source": [
    "def clean_data():\n",
    "    col = {\n",
    "        'gender': 'gender',\n",
    "        'age': 'age',\n",
    "        'apachescore': 'apachescore',\n",
    "        'crp_alb': 'crp_alb'\n",
    "    }\n",
    "    df_death = data[data['unitdischargestatus']==1]\n",
    "    df_death['unitdischargestatus'] = 1\n",
    "    df_alive = data[data['unitdischargestatus']==0]\n",
    "    df_alive['unitdischargestatus'] = 0\n",
    "    df = pd.concat([df_death,df_alive])\n",
    "    df = df[['gender','age','apachescore','crp_alb','unitdischargestatus']]\n",
    "    \n",
    "    \n",
    "   \n",
    "    df = df.astype('float')\n",
    "    \n",
    "    \n",
    "    collist = df.columns[:-1].values\n",
    "    X = df.iloc[:, :-1].values\n",
    "    y = df.iloc[:, -1].values\n",
    "    # shuffle the train data\n",
    "    shuffle_index = np.random.permutation(len(X))\n",
    "    X, y = X[shuffle_index], y[shuffle_index]\n",
    "\n",
    "    return X, y, collist\n"
   ]
  },
  {
   "cell_type": "code",
   "execution_count": 200,
   "metadata": {},
   "outputs": [],
   "source": [
    "X, y, collist = clean_data()"
   ]
  },
  {
   "cell_type": "code",
   "execution_count": 201,
   "metadata": {},
   "outputs": [],
   "source": [
    "import sklearn.metrics as metrics"
   ]
  },
  {
   "cell_type": "code",
   "execution_count": 202,
   "metadata": {},
   "outputs": [],
   "source": [
    "import warnings\n",
    "warnings.filterwarnings('ignore')"
   ]
  },
  {
   "cell_type": "code",
   "execution_count": 203,
   "metadata": {
    "scrolled": false
   },
   "outputs": [
    {
     "name": "stdout",
     "output_type": "stream",
     "text": [
      "processing xgboost\n",
      "optimize hyper-parameter via bayes search\n",
      "100%|████████████████████████████████████████████████████| 4/4 [00:00<00:00, 10.79it/s, best loss: -0.6506696428571428]\n",
      "optimize hyper-parameter via bayes search\n",
      "100%|███████████████████████████████████████████████████████████████████| 4/4 [00:00<00:00, 18.95it/s, best loss: -0.5]\n",
      "optimize hyper-parameter via bayes search\n",
      "100%|████████████████████████████████████████████████████| 4/4 [00:00<00:00,  6.36it/s, best loss: -0.6019810267857143]\n",
      "optimize hyper-parameter via bayes search\n",
      "100%|████████████████████████████████████████████████████| 4/4 [00:00<00:00, 11.41it/s, best loss: -0.5846819196428572]\n",
      "optimize hyper-parameter via bayes search\n",
      "100%|████████████████████████████████████████████████████| 4/4 [00:00<00:00,  8.34it/s, best loss: -0.6026785714285714]\n",
      "optimize hyper-parameter via bayes search\n",
      "100%|████████████████████████████████████████████████████| 4/4 [00:00<00:00, 11.04it/s, best loss: -0.6529017857142858]\n",
      "optimize hyper-parameter via bayes search\n",
      "100%|████████████████████████████████████████████████████| 4/4 [00:00<00:00, 10.65it/s, best loss: -0.6531808035714286]\n",
      "optimize hyper-parameter via bayes search\n",
      "100%|████████████████████████████████████████████████████| 4/4 [00:00<00:00,  9.98it/s, best loss: -0.6522042410714286]\n",
      "optimize hyper-parameter via bayes search\n",
      "100%|████████████████████████████████████████████████████| 4/4 [00:00<00:00,  9.90it/s, best loss: -0.6374162946428572]\n",
      "optimize hyper-parameter via bayes search\n",
      "100%|████████████████████████████████████████████████████| 4/4 [00:00<00:00, 10.62it/s, best loss: -0.6305803571428572]\n",
      "optimize hyper-parameter via bayes search\n",
      "100%|████████████████████████████████████████████████████| 4/4 [00:00<00:00, 11.65it/s, best loss: -0.5799386160714286]\n",
      "optimize hyper-parameter via bayes search\n",
      "100%|████████████████████████████████████████████████████| 4/4 [00:00<00:00, 12.05it/s, best loss: -0.6111886160714286]\n",
      "optimize hyper-parameter via bayes search\n",
      "100%|████████████████████████████████████████████████████| 4/4 [00:00<00:00, 10.66it/s, best loss: -0.6812220982142858]\n",
      "optimize hyper-parameter via bayes search\n",
      "100%|████████████████████████████████████████████████████| 4/4 [00:00<00:00, 12.00it/s, best loss: -0.6353236607142857]\n",
      "optimize hyper-parameter via bayes search\n",
      "100%|████████████████████████████████████████████████████| 4/4 [00:00<00:00, 10.33it/s, best loss: -0.6876395089285714]\n",
      "optimize hyper-parameter via bayes search\n",
      "100%|████████████████████████████████████████████████████| 4/4 [00:00<00:00, 12.56it/s, best loss: -0.6590401785714285]\n",
      "optimize hyper-parameter via bayes search\n",
      "100%|████████████████████████████████████████████████████| 4/4 [00:00<00:00, 10.04it/s, best loss: -0.6556919642857142]\n",
      "optimize hyper-parameter via bayes search\n",
      "100%|███████████████████████████████████████████████████████████| 4/4 [00:00<00:00, 11.24it/s, best loss: -0.607421875]\n",
      "optimize hyper-parameter via bayes search\n",
      "100%|███████████████████████████████████████████████████████████| 4/4 [00:00<00:00, 12.16it/s, best loss: -0.599609375]\n",
      "optimize hyper-parameter via bayes search\n",
      "100%|████████████████████████████████████████████████████| 4/4 [00:00<00:00, 10.89it/s, best loss: -0.7045200892857144]\n",
      "optimize hyper-parameter via bayes search\n",
      "100%|████████████████████████████████████████████████████| 4/4 [00:00<00:00, 12.37it/s, best loss: -0.6286272321428572]\n",
      "optimize hyper-parameter via bayes search\n",
      "100%|████████████████████████████████████████████████████| 4/4 [00:00<00:00, 11.04it/s, best loss: -0.6642020089285714]\n",
      "optimize hyper-parameter via bayes search\n",
      "100%|████████████████████████████████████████████████████| 4/4 [00:00<00:00, 13.02it/s, best loss: -0.6632254464285714]\n",
      "optimize hyper-parameter via bayes search\n",
      "100%|████████████████████████████████████████████████████| 4/4 [00:00<00:00,  7.94it/s, best loss: -0.6277901785714286]\n",
      "optimize hyper-parameter via bayes search\n",
      "100%|███████████████████████████████████████████████████████████| 4/4 [00:00<00:00, 12.62it/s, best loss: -0.544921875]\n",
      "optimize hyper-parameter via bayes search\n",
      "100%|████████████████████████████████████████████████████| 4/4 [00:00<00:00,  8.38it/s, best loss: -0.6918247767857142]\n",
      "optimize hyper-parameter via bayes search\n",
      "100%|████████████████████████████████████████████████████| 4/4 [00:00<00:00, 12.77it/s, best loss: -0.7246093750000001]\n",
      "optimize hyper-parameter via bayes search\n",
      "100%|████████████████████████████████████████████████████| 4/4 [00:00<00:00,  9.00it/s, best loss: -0.6212332589285714]\n",
      "optimize hyper-parameter via bayes search\n",
      "100%|████████████████████████████████████████████████████| 4/4 [00:00<00:00, 10.37it/s, best loss: -0.6789899553571428]\n",
      "optimize hyper-parameter via bayes search\n",
      "100%|████████████████████████████████████████████████████| 4/4 [00:00<00:00, 12.53it/s, best loss: -0.6805245535714285]\n",
      "optimize hyper-parameter via bayes search\n",
      "100%|████████████████████████████████████████████████████| 4/4 [00:00<00:00, 10.76it/s, best loss: -0.6637834821428572]\n",
      "optimize hyper-parameter via bayes search\n",
      "100%|████████████████████████████████████████████████████| 4/4 [00:00<00:00, 11.98it/s, best loss: -0.5817522321428572]\n",
      "optimize hyper-parameter via bayes search\n",
      "100%|████████████████████████████████████████████████████| 4/4 [00:00<00:00, 12.05it/s, best loss: -0.6978236607142857]\n",
      "optimize hyper-parameter via bayes search\n",
      "100%|████████████████████████████████████████████████████| 4/4 [00:00<00:00, 10.71it/s, best loss: -0.6844308035714286]\n",
      "optimize hyper-parameter via bayes search\n",
      "100%|████████████████████████████████████████████████████| 4/4 [00:00<00:00, 12.66it/s, best loss: -0.6501116071428572]\n",
      "defaultdict(<class 'dict'>,\n",
      "            {'xgboost': {'accuracy': [0.5017857142857143,\n",
      "                                      0.0035714285714285587],\n",
      "                         'auc': [0.7057716836734693, 0.034079433138499225],\n",
      "                         'f1_score': [0.3372413068599643, 0.007815947053261897],\n",
      "                         'precision': [0.3504504504504505, 0.20090090090090088],\n",
      "                         'recall': [0.5017857142857143, 0.0035714285714285587],\n",
      "                         'specificity': [0.0035714285714285713,\n",
      "                                         0.007142857142857143]}})\n",
      "process in 16.74479579925537 s\n"
     ]
    },
    {
     "data": {
      "image/png": "[encoded data removed]",
      "text/plain": [
       "<Figure size 432x288 with 1 Axes>"
      ]
     },
     "metadata": {},
     "output_type": "display_data"
    },
    {
     "data": {
      "image/png": "[encoded data removed]",
      "text/plain": [
       "<Figure size 432x288 with 1 Axes>"
      ]
     },
     "metadata": {},
     "output_type": "display_data"
    },
    {
     "data": {
      "image/png": "[encoded data removed]",
      "text/plain": [
       "<Figure size 432x288 with 1 Axes>"
      ]
     },
     "metadata": {},
     "output_type": "display_data"
    },
    {
     "data": {
      "image/png": "[encoded data removed]",
      "text/plain": [
       "<Figure size 432x288 with 1 Axes>"
      ]
     },
     "metadata": {},
     "output_type": "display_data"
    },
    {
     "data": {
      "image/png": "[encoded data removed]",
      "text/plain": [
       "<Figure size 432x288 with 1 Axes>"
      ]
     },
     "metadata": {},
     "output_type": "display_data"
    },
    {
     "data": {
      "image/png": "[encoded data removed]",
      "text/plain": [
       "<Figure size 432x288 with 1 Axes>"
      ]
     },
     "metadata": {},
     "output_type": "display_data"
    },
    {
     "data": {
      "image/png": "[encoded data removed]",
      "text/plain": [
       "<Figure size 432x288 with 1 Axes>"
      ]
     },
     "metadata": {},
     "output_type": "display_data"
    },
    {
     "data": {
      "image/png": "[encoded data removed]",
      "text/plain": [
       "<Figure size 432x288 with 1 Axes>"
      ]
     },
     "metadata": {},
     "output_type": "display_data"
    },
    {
     "data": {
      "image/png": "[encoded data removed]",
      "text/plain": [
       "<Figure size 432x288 with 1 Axes>"
      ]
     },
     "metadata": {},
     "output_type": "display_data"
    },
    {
     "data": {
      "image/png": "[encoded data removed]",
      "text/plain": [
       "<Figure size 432x288 with 1 Axes>"
      ]
     },
     "metadata": {},
     "output_type": "display_data"
    },
    {
     "data": {
      "image/png": "[encoded data removed]",
      "text/plain": [
       "<Figure size 432x288 with 1 Axes>"
      ]
     },
     "metadata": {},
     "output_type": "display_data"
    }
   ],
   "source": [
    "# crp_alb + apachescore\n",
    "if __name__ == '__main__':\n",
    "    time_start = time()\n",
    "    #X, y, collist = clean_data()\n",
    "    #collist = df.columns[:-1].values\n",
    "    #X = df.iloc[:, :-1].values\n",
    "    #y = df.iloc[:, -1].values\n",
    "    # shuffle the train data\n",
    "    #shuffle_index = np.random.permutation(len(X))\n",
    "    #X, y = X[shuffle_index], y[shuffle_index]\n",
    "    df_death = data[data['unitdischargestatus']==1]\n",
    "    df_death['unitdischargestatus'] = 1\n",
    "    df_alive = data[data['unitdischargestatus']==0]\n",
    "    df_alive['unitdischargestatus'] = 0\n",
    "    df = pd.concat([df_death,df_alive])\n",
    "    df = df[['gender','age','apachescore','crp_alb','unitdischargestatus']]\n",
    "    \n",
    "    \n",
    "    #del df_hii['Unnamed: 0']\n",
    "   # del df_hii['index'] \n",
    "    #del df_hii['Label_HII']\n",
    "    #del df_nohii['Unnamed: 0']\n",
    "    #del df_nohii['index'] \n",
    "    #del df_nohii['Label_HII']\n",
    "    \n",
    "    #df_icu= df[df['apachescore']=='ICU']\n",
    "    #df_no_icu = df[df['apachescore']!='ICU']\n",
    "    #df_no_icu['apachescore'] = df_no_icu['apachescore'].astype(float)\n",
    "    #df_no_icu['apachescore'] = abs(df_no_icu['apachescore'])\n",
    "    #df_icu.loc[df_icu.apachescore  == 'ICU', 'apachescore'] = 70.02765\n",
    "    #df = pd.concat([df_icu,df_no_icu])\n",
    "    #col_list = ['bp_s_i','bp_s','hr','bun','abe','hematocrit','wbc-leukocyte','co2','creatinine','fio2','paco2',\n",
    "            #'temp_degc','hemoglobin','shock_idx','age','HII']\n",
    "    \n",
    "    df = df.astype('float')\n",
    "    \n",
    "    \n",
    "    #final_df = final_df[columns].astype('float')\n",
    "    collist = df.columns[:-1].values\n",
    "    X = df.iloc[:, :-1].values\n",
    "    y = df.iloc[:, -1].values\n",
    "    # shuffle the train data\n",
    "    shuffle_index = np.random.permutation(len(X))\n",
    "    X, y = X[shuffle_index], y[shuffle_index]\n",
    "\n",
    "\n",
    "\n",
    "    model = {\n",
    "        #'logistic_regression': logistic_regression_model,\n",
    "        #'svc': svc_model,\n",
    "        #'random_forest': random_forest_model,\n",
    "        'xgboost': xgboost_model,\n",
    "        #'mlp': mlp_model,\n",
    "        #'knn': knn_model\n",
    "    }\n",
    "\n",
    "    model_result = defaultdict(dict)\n",
    "    for model_name, build_model in model.items():\n",
    "        print('processing {0}'.format(model_name))\n",
    "        scores = VAPClassifier(X, y, collist).model_performance_kfolds()\n",
    "\n",
    "        # calc mean and std of k-fold cross validation\n",
    "        for key, value in scores.items():\n",
    "            value = np.array(scores[key])\n",
    "            model_result[model_name][key] = [np.mean(value), np.std(value)]\n",
    "    pprint(model_result)\n",
    "\n",
    "    time_end = time()\n",
    "    print('process in {0} s'.format(time_end - time_start))\n",
    "\n",
    "    plt.show()\n",
    "    "
   ]
  },
  {
   "cell_type": "code",
   "execution_count": null,
   "metadata": {},
   "outputs": [],
   "source": []
  },
  {
   "cell_type": "code",
   "execution_count": 190,
   "metadata": {},
   "outputs": [],
   "source": [
    "def clean_data():\n",
    "    col = {\n",
    "        'gender': 'gender',\n",
    "        'age': 'age',\n",
    "        'apachescore': 'apachescore'\n",
    "    }\n",
    "    df_death = data[data['unitdischargestatus']==1]\n",
    "    df_death['unitdischargestatus'] = 1\n",
    "    df_alive = data[data['unitdischargestatus']==0]\n",
    "    df_alive['unitdischargestatus'] = 0\n",
    "    df = pd.concat([df_death,df_alive])\n",
    "    df = df[['gender','age','apachescore','unitdischargestatus']]\n",
    "    \n",
    "    \n",
    "    #del df_hii['Unnamed: 0']\n",
    "   # del df_hii['index'] \n",
    "    #del df_hii['Label_HII']\n",
    "    #del df_nohii['Unnamed: 0']\n",
    "    #del df_nohii['index'] \n",
    "    #del df_nohii['Label_HII']\n",
    "    \n",
    "    #df_icu= df[df['apachescore']=='ICU']\n",
    "    #df_no_icu = df[df['apachescore']!='ICU']\n",
    "    #df_no_icu['apachescore'] = df_no_icu['apachescore'].astype(float)\n",
    "    #df_no_icu['apachescore'] = abs(df_no_icu['apachescore'])\n",
    "    #df_icu.loc[df_icu.apachescore  == 'ICU', 'apachescore'] = 70.02765\n",
    "    #df = pd.concat([df_icu,df_no_icu])\n",
    "    #col_list = ['bp_s_i','bp_s','hr','bun','abe','hematocrit','wbc-leukocyte','co2','creatinine','fio2','paco2',\n",
    "            #'temp_degc','hemoglobin','shock_idx','age','HII']\n",
    "    \n",
    "    df = df.astype('float')\n",
    "    \n",
    "    #final_df = final_df[columns].astype('float')\n",
    "    #collist = df.columns[:-1].values\n",
    "    #X = df.iloc[:, :-1].values\n",
    "    #y = df.iloc[:, -1].values\n",
    "    #final_df = final_df[columns].astype('float')\n",
    "    collist = df.columns[:-1].values\n",
    "    X = df.iloc[:, :-1].values\n",
    "    y = df.iloc[:, -1].values\n",
    "    # shuffle the train data\n",
    "    shuffle_index = np.random.permutation(len(X))\n",
    "    X, y = X[shuffle_index], y[shuffle_index]\n",
    "\n",
    "    return X, y, collist\n"
   ]
  },
  {
   "cell_type": "code",
   "execution_count": 143,
   "metadata": {
    "scrolled": false
   },
   "outputs": [
    {
     "name": "stdout",
     "output_type": "stream",
     "text": [
      "processing xgboost\n",
      "optimize hyper-parameter via bayes search\n",
      "100%|████████████████████████████████████████████████████| 4/4 [00:00<00:00, 14.89it/s, best loss: -0.5789620535714286]\n",
      "optimize hyper-parameter via bayes search\n",
      "100%|████████████████████████████████████████████████████| 4/4 [00:00<00:00, 14.45it/s, best loss: -0.5845424107142858]\n",
      "optimize hyper-parameter via bayes search\n",
      "100%|████████████████████████████████████████████████████| 4/4 [00:00<00:00, 14.07it/s, best loss: -0.5620814732142858]\n",
      "optimize hyper-parameter via bayes search\n",
      "100%|███████████████████████████████████████████████████████████████████| 4/4 [00:00<00:00, 23.40it/s, best loss: -0.5]\n",
      "optimize hyper-parameter via bayes search\n",
      "100%|██████████████████████████████████████████████████████████| 4/4 [00:00<00:00, 12.76it/s, best loss: -0.6650390625]\n",
      "optimize hyper-parameter via bayes search\n",
      "100%|█████████████████████████████████████████████████████████████| 4/4 [00:00<00:00, 15.34it/s, best loss: -0.6171875]\n",
      "optimize hyper-parameter via bayes search\n",
      "100%|███████████████████████████████████████████████████████████████████| 4/4 [00:00<00:00, 18.43it/s, best loss: -0.5]\n",
      "optimize hyper-parameter via bayes search\n",
      "100%|████████████████████████████████████████████████████| 4/4 [00:00<00:00, 12.74it/s, best loss: -0.6522042410714286]\n",
      "optimize hyper-parameter via bayes search\n",
      "100%|████████████████████████████████████████████████████| 4/4 [00:00<00:00, 15.34it/s, best loss: -0.5955636160714285]\n",
      "optimize hyper-parameter via bayes search\n",
      "100%|███████████████████████████████████████████████████████████| 4/4 [00:00<00:00, 15.17it/s, best loss: -0.576171875]\n",
      "optimize hyper-parameter via bayes search\n",
      "100%|███████████████████████████████████████████████████████████████████| 4/4 [00:00<00:00, 23.33it/s, best loss: -0.5]\n",
      "optimize hyper-parameter via bayes search\n",
      "100%|████████████████████████████████████████████████████| 4/4 [00:00<00:00, 12.74it/s, best loss: -0.6828962053571428]\n",
      "optimize hyper-parameter via bayes search\n",
      "100%|████████████████████████████████████████████████████| 4/4 [00:00<00:00, 14.94it/s, best loss: -0.6125837053571428]\n",
      "optimize hyper-parameter via bayes search\n",
      "100%|███████████████████████████████████████████████████████████████████| 4/4 [00:00<00:00, 23.19it/s, best loss: -0.5]\n",
      "optimize hyper-parameter via bayes search\n",
      "100%|████████████████████████████████████████████████████| 4/4 [00:00<00:00, 12.45it/s, best loss: -0.7147042410714286]\n",
      "optimize hyper-parameter via bayes search\n",
      "100%|████████████████████████████████████████████████████| 4/4 [00:00<00:00,  9.59it/s, best loss: -0.6227678571428572]\n",
      "optimize hyper-parameter via bayes search\n",
      "100%|████████████████████████████████████████████████████| 4/4 [00:00<00:00, 10.64it/s, best loss: -0.6506696428571429]\n",
      "optimize hyper-parameter via bayes search\n",
      "100%|███████████████████████████████████████████████████████████████████| 4/4 [00:00<00:00, 22.41it/s, best loss: -0.5]\n",
      "optimize hyper-parameter via bayes search\n",
      "100%|████████████████████████████████████████████████████| 4/4 [00:00<00:00, 13.03it/s, best loss: -0.6697823660714285]\n",
      "optimize hyper-parameter via bayes search\n",
      "100%|████████████████████████████████████████████████████| 4/4 [00:00<00:00, 12.39it/s, best loss: -0.6159319196428572]\n",
      "optimize hyper-parameter via bayes search\n",
      "100%|███████████████████████████████████████████████████████████████████| 4/4 [00:00<00:00, 23.19it/s, best loss: -0.5]\n",
      "optimize hyper-parameter via bayes search\n",
      "100%|████████████████████████████████████████████████████| 4/4 [00:00<00:00, 12.75it/s, best loss: -0.7212611607142858]\n",
      "optimize hyper-parameter via bayes search\n",
      "100%|████████████████████████████████████████████████████| 4/4 [00:00<00:00,  8.47it/s, best loss: -0.5834263392857142]\n",
      "optimize hyper-parameter via bayes search\n",
      "100%|████████████████████████████████████████████████████| 4/4 [00:00<00:00, 11.37it/s, best loss: -0.6646205357142857]\n",
      "optimize hyper-parameter via bayes search\n",
      "100%|████████████████████████████████████████████████████| 4/4 [00:00<00:00, 10.78it/s, best loss: -0.5238560267857142]\n",
      "optimize hyper-parameter via bayes search\n",
      "100%|████████████████████████████████████████████████████| 4/4 [00:00<00:00, 12.91it/s, best loss: -0.5885881696428572]\n",
      "optimize hyper-parameter via bayes search\n",
      "100%|████████████████████████████████████████████████████| 4/4 [00:00<00:00, 11.61it/s, best loss: -0.7458147321428572]\n",
      "optimize hyper-parameter via bayes search\n",
      "100%|███████████████████████████████████████████████████████████████████| 4/4 [00:00<00:00, 22.86it/s, best loss: -0.5]\n",
      "optimize hyper-parameter via bayes search\n",
      "100%|███████████████████████████████████████████████████████████████████| 4/4 [00:00<00:00, 21.98it/s, best loss: -0.5]\n",
      "optimize hyper-parameter via bayes search\n",
      "100%|████████████████████████████████████████████████████| 4/4 [00:00<00:00, 13.00it/s, best loss: -0.6335100446428572]\n",
      "optimize hyper-parameter via bayes search\n",
      "100%|████████████████████████████████████████████████████| 4/4 [00:00<00:00, 14.94it/s, best loss: -0.6427176339285714]\n",
      "optimize hyper-parameter via bayes search\n",
      "100%|████████████████████████████████████████████████████| 4/4 [00:00<00:00, 14.91it/s, best loss: -0.5424107142857143]\n",
      "optimize hyper-parameter via bayes search\n",
      "100%|████████████████████████████████████████████████████| 4/4 [00:00<00:00, 14.53it/s, best loss: -0.6014229910714285]\n",
      "optimize hyper-parameter via bayes search\n",
      "100%|███████████████████████████████████████████████████████████████████| 4/4 [00:00<00:00, 23.47it/s, best loss: -0.5]\n",
      "optimize hyper-parameter via bayes search\n",
      "100%|████████████████████████████████████████████████████| 4/4 [00:00<00:00, 13.80it/s, best loss: -0.6333705357142857]\n",
      "defaultdict(<class 'dict'>,\n",
      "            {'xgboost': {'accuracy': [0.5, 0.0],\n",
      "                         'auc': [0.6191645408163267, 0.035073428666181315],\n",
      "                         'f1_score': [0.3333333333333333, 0.0],\n",
      "                         'precision': [0.25, 0.0],\n",
      "                         'recall': [0.5, 0.0],\n",
      "                         'specificity': [0.0, 0.0]}})\n"
     ]
    },
    {
     "ename": "TypeError",
     "evalue": "'module' object is not callable",
     "output_type": "error",
     "traceback": [
      "\u001b[1;31m---------------------------------------------------------------------------\u001b[0m",
      "\u001b[1;31mTypeError\u001b[0m                                 Traceback (most recent call last)",
      "\u001b[1;32m<ipython-input-143-0bd320bbd219>\u001b[0m in \u001b[0;36m<module>\u001b[1;34m()\u001b[0m\n\u001b[0;32m     65\u001b[0m     \u001b[0mpprint\u001b[0m\u001b[1;33m(\u001b[0m\u001b[0mmodel_result\u001b[0m\u001b[1;33m)\u001b[0m\u001b[1;33m\u001b[0m\u001b[0m\n\u001b[0;32m     66\u001b[0m \u001b[1;33m\u001b[0m\u001b[0m\n\u001b[1;32m---> 67\u001b[1;33m     \u001b[0mtime_end\u001b[0m \u001b[1;33m=\u001b[0m \u001b[0mtime\u001b[0m\u001b[1;33m(\u001b[0m\u001b[1;33m)\u001b[0m\u001b[1;33m\u001b[0m\u001b[0m\n\u001b[0m\u001b[0;32m     68\u001b[0m     \u001b[0mprint\u001b[0m\u001b[1;33m(\u001b[0m\u001b[1;34m'process in {0} s'\u001b[0m\u001b[1;33m.\u001b[0m\u001b[0mformat\u001b[0m\u001b[1;33m(\u001b[0m\u001b[0mtime_end\u001b[0m \u001b[1;33m-\u001b[0m \u001b[0mtime_start\u001b[0m\u001b[1;33m)\u001b[0m\u001b[1;33m)\u001b[0m\u001b[1;33m\u001b[0m\u001b[0m\n\u001b[0;32m     69\u001b[0m \u001b[1;33m\u001b[0m\u001b[0m\n",
      "\u001b[1;31mTypeError\u001b[0m: 'module' object is not callable"
     ]
    },
    {
     "data": {
      "image/png": "[encoded data removed]",
      "text/plain": [
       "<Figure size 432x288 with 1 Axes>"
      ]
     },
     "metadata": {},
     "output_type": "display_data"
    },
    {
     "data": {
      "image/png": "[encoded data removed]",
      "text/plain": [
       "<Figure size 432x288 with 1 Axes>"
      ]
     },
     "metadata": {},
     "output_type": "display_data"
    },
    {
     "data": {
      "image/png": "[encoded data removed]",
      "text/plain": [
       "<Figure size 432x288 with 1 Axes>"
      ]
     },
     "metadata": {},
     "output_type": "display_data"
    },
    {
     "data": {
      "image/png": "[encoded data removed]",
      "text/plain": [
       "<Figure size 432x288 with 1 Axes>"
      ]
     },
     "metadata": {},
     "output_type": "display_data"
    },
    {
     "data": {
      "image/png": "[encoded data removed]",
      "text/plain": [
       "<Figure size 432x288 with 1 Axes>"
      ]
     },
     "metadata": {},
     "output_type": "display_data"
    },
    {
     "data": {
      "image/png": "[encoded data removed]",
      "text/plain": [
       "<Figure size 432x288 with 1 Axes>"
      ]
     },
     "metadata": {},
     "output_type": "display_data"
    },
    {
     "data": {
      "image/png": "[encoded data removed]",
      "text/plain": [
       "<Figure size 432x288 with 1 Axes>"
      ]
     },
     "metadata": {},
     "output_type": "display_data"
    },
    {
     "data": {
      "image/png": "[encoded data removed]",
      "text/plain": [
       "<Figure size 432x288 with 1 Axes>"
      ]
     },
     "metadata": {},
     "output_type": "display_data"
    },
    {
     "data": {
      "image/png": "[encoded data removed]",
      "text/plain": [
       "<Figure size 432x288 with 1 Axes>"
      ]
     },
     "metadata": {},
     "output_type": "display_data"
    },
    {
     "data": {
      "image/png": "[encoded data removed]",
      "text/plain": [
       "<Figure size 432x288 with 1 Axes>"
      ]
     },
     "metadata": {},
     "output_type": "display_data"
    },
    {
     "data": {
      "image/png": "[encoded data removed]",
      "text/plain": [
       "<Figure size 432x288 with 1 Axes>"
      ]
     },
     "metadata": {},
     "output_type": "display_data"
    }
   ],
   "source": [
    "# only apachescore\n",
    "if __name__ == '__main__':\n",
    "    #time_start = time()\n",
    "    #X, y, collist = clean_data()\n",
    "    #collist = df.columns[:-1].values\n",
    "    #X = df.iloc[:, :-1].values\n",
    "    #y = df.iloc[:, -1].values\n",
    "    # shuffle the train data\n",
    "    #shuffle_index = np.random.permutation(len(X))\n",
    "    #X, y = X[shuffle_index], y[shuffle_index]\n",
    "    df_death = data[data['unitdischargestatus']==1]\n",
    "    df_death['unitdischargestatus'] = 1\n",
    "    df_alive = data[data['unitdischargestatus']==0]\n",
    "    df_alive['unitdischargestatus'] = 0\n",
    "    df = pd.concat([df_death,df_alive])\n",
    "    df = df[['gender','age','apachescore','unitdischargestatus']]\n",
    "    \n",
    "    \n",
    "    #del df_hii['Unnamed: 0']\n",
    "   # del df_hii['index'] \n",
    "    #del df_hii['Label_HII']\n",
    "    #del df_nohii['Unnamed: 0']\n",
    "    #del df_nohii['index'] \n",
    "    #del df_nohii['Label_HII']\n",
    "    \n",
    "    df_icu= df[df['apachescore']=='ICU']\n",
    "    df_no_icu = df[df['apachescore']!='ICU']\n",
    "    df_no_icu['apachescore'] = df_no_icu['apachescore'].astype(float)\n",
    "    df_no_icu['apachescore'] = abs(df_no_icu['apachescore'])\n",
    "    df_icu.loc[df_icu.apachescore  == 'ICU', 'apachescore'] = 70.02765\n",
    "    df = pd.concat([df_icu,df_no_icu])\n",
    "    #col_list = ['bp_s_i','bp_s','hr','bun','abe','hematocrit','wbc-leukocyte','co2','creatinine','fio2','paco2',\n",
    "            #'temp_degc','hemoglobin','shock_idx','age','HII']\n",
    "    \n",
    "    df = df.astype('float')\n",
    "    \n",
    "    \n",
    "    #final_df = final_df[columns].astype('float')\n",
    "    collist = df.columns[:-1].values\n",
    "    X = df.iloc[:, :-1].values\n",
    "    y = df.iloc[:, -1].values\n",
    "    # shuffle the train data\n",
    "    shuffle_index = np.random.permutation(len(X))\n",
    "    X, y = X[shuffle_index], y[shuffle_index]\n",
    "\n",
    "\n",
    "\n",
    "    model = {\n",
    "        #'logistic_regression': logistic_regression_model,\n",
    "        #'svc': svc_model,\n",
    "        #'random_forest': random_forest_model,\n",
    "        'xgboost': xgboost_model,\n",
    "        #'mlp': mlp_model,\n",
    "        #'knn': knn_model\n",
    "    }\n",
    "\n",
    "    model_result = defaultdict(dict)\n",
    "    for model_name, build_model in model.items():\n",
    "        print('processing {0}'.format(model_name))\n",
    "        scores = VAPClassifier(X, y, collist).model_performance_kfolds()\n",
    "\n",
    "        # calc mean and std of k-fold cross validation\n",
    "        for key, value in scores.items():\n",
    "            value = np.array(scores[key])\n",
    "            model_result[model_name][key] = [np.mean(value), np.std(value)]\n",
    "    pprint(model_result)\n",
    "\n",
    "    time_end = time()\n",
    "    print('process in {0} s'.format(time_end - time_start))\n",
    "\n",
    "    plt.show()\n",
    "    "
   ]
  },
  {
   "cell_type": "code",
   "execution_count": null,
   "metadata": {},
   "outputs": [],
   "source": []
  }
 ],
 "metadata": {
  "kernelspec": {
   "display_name": "Python 3",
   "language": "python",
   "name": "python3"
  },
  "language_info": {
   "codemirror_mode": {
    "name": "ipython",
    "version": 3
   },
   "file_extension": ".py",
   "mimetype": "text/x-python",
   "name": "python",
   "nbconvert_exporter": "python",
   "pygments_lexer": "ipython3",
   "version": "3.6.5"
  },
  "latex_envs": {
   "LaTeX_envs_menu_present": true,
   "autoclose": false,
   "autocomplete": true,
   "bibliofile": "biblio.bib",
   "cite_by": "apalike",
   "current_citInitial": 1,
   "eqLabelWithNumbers": true,
   "eqNumInitial": 1,
   "hotkeys": {
    "equation": "Ctrl-E",
    "itemize": "Ctrl-I"
   },
   "labels_anchors": false,
   "latex_user_defs": false,
   "report_style_numbering": false,
   "user_envs_cfg": false
  },
  "toc": {
   "base_numbering": 1,
   "nav_menu": {},
   "number_sections": true,
   "sideBar": true,
   "skip_h1_title": false,
   "title_cell": "Table of Contents",
   "title_sidebar": "Contents",
   "toc_cell": false,
   "toc_position": {},
   "toc_section_display": true,
   "toc_window_display": false
  },
  "varInspector": {
   "cols": {
    "lenName": 16,
    "lenType": 16,
    "lenVar": 40
   },
   "kernels_config": {
    "python": {
     "delete_cmd_postfix": "",
     "delete_cmd_prefix": "del ",
     "library": "var_list.py",
     "varRefreshCmd": "print(var_dic_list())"
    },
    "r": {
     "delete_cmd_postfix": ") ",
     "delete_cmd_prefix": "rm(",
     "library": "var_list.r",
     "varRefreshCmd": "cat(var_dic_list()) "
    }
   },
   "types_to_exclude": [
    "module",
    "function",
    "builtin_function_or_method",
    "instance",
    "_Feature"
   ],
   "window_display": false
  }
 },
 "nbformat": 4,
 "nbformat_minor": 2
}
